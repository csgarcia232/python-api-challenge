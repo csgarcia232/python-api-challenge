{
 "cells": [
  {
   "cell_type": "markdown",
   "metadata": {},
   "source": [
    "# WeatherPy\n",
    "----\n",
    "\n",
    "#### Note\n",
    "* Instructions have been included for each segment. You do not have to follow them exactly, but they are included to help you think through the steps."
   ]
  },
  {
   "cell_type": "code",
   "execution_count": 1,
   "metadata": {
    "scrolled": true
   },
   "outputs": [],
   "source": [
    "# Dependencies and Setup\n",
    "import matplotlib.pyplot as plt\n",
    "import pandas as pd\n",
    "import numpy as np\n",
    "import requests\n",
    "import time\n",
    "\n",
    "# Import API key\n",
    "from api_keys import api_key\n",
    "\n",
    "# Incorporated citipy to determine city based on latitude and longitude\n",
    "from citipy import citipy\n",
    "\n",
    "# Output File (CSV)\n",
    "output_data_file = \"output_data/cities.csv\"\n",
    "\n",
    "# Range of latitudes and longitudes\n",
    "lat_range = (-90, 90)\n",
    "lng_range = (-180, 180)\n"
   ]
  },
  {
   "cell_type": "markdown",
   "metadata": {},
   "source": [
    "## Generate Cities List"
   ]
  },
  {
   "cell_type": "code",
   "execution_count": 2,
   "metadata": {},
   "outputs": [
    {
     "data": {
      "text/plain": [
       "621"
      ]
     },
     "execution_count": 2,
     "metadata": {},
     "output_type": "execute_result"
    }
   ],
   "source": [
    "# List for holding lat_lngs and cities\n",
    "lat_lngs = []\n",
    "cities = []\n",
    "\n",
    "# Create a set of random lat and lng combinations\n",
    "lats = np.random.uniform(low=-90.000, high=90.000, size=1500)\n",
    "lngs = np.random.uniform(low=-180.000, high=180.000, size=1500)\n",
    "lat_lngs = zip(lats, lngs)\n",
    "\n",
    "# Identify nearest city for each lat, lng combination\n",
    "for lat_lng in lat_lngs:\n",
    "    city = citipy.nearest_city(lat_lng[0], lat_lng[1]).city_name\n",
    "    \n",
    "    # If the city is unique, then add it to a our cities list\n",
    "    if city not in cities:\n",
    "        cities.append(city)\n",
    "\n",
    "# Print the city count to confirm sufficient count\n",
    "len(cities)"
   ]
  },
  {
   "cell_type": "markdown",
   "metadata": {},
   "source": [
    "### Perform API Calls\n",
    "* Perform a weather check on each city using a series of successive API calls.\n",
    "* Include a print log of each city as it'sbeing processed (with the city number and city name).\n"
   ]
  },
  {
   "cell_type": "code",
   "execution_count": 3,
   "metadata": {},
   "outputs": [],
   "source": [
    "# # # Api information.\n",
    "# url = \"http://api.openweathermap.org/data/2.5/weather?\"\n",
    "\n",
    "# # Create Lists to Append API Data\n",
    "# city_data = []\n",
    "\n",
    "# print('Beginning Data Retrieval')\n",
    "# print('------------------------')\n",
    "\n",
    "# api_call_limit = 1\n",
    "# count_set = 0\n",
    "\n",
    "\n",
    "# for city in cities[0:10]:\n",
    "# # Build partial query URL\n",
    "#     query_url = url + \"&q=\" + city + \"&units=Imperial&APPID=\" + api_key\n",
    "\n",
    "    \n",
    "#     if api_call_limit < 50:\n",
    "#         api_call_limit += 1\n",
    "        \n",
    "#     else:\n",
    "#         count_set += 1\n",
    "#         api_call_limit = 0\n",
    "    \n",
    "    \n",
    "#     print('Processing record {} of set {} | {}'.format(api_call_limit, count_set, city))\n",
    "#     print(query_url)\n",
    "    \n",
    "#     try:\n",
    "#         response = requests.get(query_url).json()\n",
    "        \n",
    "#         Lat = response['coord']['lat']\n",
    "#         Lng = response['coord']['lng']\n",
    "#         Date = response['dt']['']\n",
    "#         City_Name = response['name']['']\n",
    "#         Country = response['sys']['country']\n",
    "#         Temperature = response['main']['temp']\n",
    "#         Cloudiness = response['clouds']['all']\n",
    "#         Humidity = response['main']['humidity']\n",
    "#         Wind_speed = response['wind']['speed']\n",
    "        \n",
    "#         city_data.append({\n",
    "#             \"City\": City_Name,\n",
    "#             \"Country\": Country,\n",
    "#             \"Latitude\": Lat,\n",
    "#             \"Longitude\": Lng,\n",
    "#             \"Date\": Date,\n",
    "#             \"Temperature\": Temperature,\n",
    "#             \"Cloudiness\": Cloudiness,\n",
    "#             \"Humidity\": Humidity,\n",
    "#             \"Wind Speed\": Wind_speed})\n",
    "        \n",
    "#     except:\n",
    "#         print(\"City not found, skipping...\")\n",
    "     \n",
    "# print('Data Retrieval Complete')\n",
    "# print('-------------------------')\n",
    "    \n",
    "    "
   ]
  },
  {
   "cell_type": "markdown",
   "metadata": {},
   "source": [
    "### Convert Raw Data to DataFrame\n",
    "* Export the city data into a .csv.\n",
    "* Display the DataFrame"
   ]
  },
  {
   "cell_type": "code",
   "execution_count": 4,
   "metadata": {},
   "outputs": [
    {
     "name": "stdout",
     "output_type": "stream",
     "text": [
      "Beginning Data Retrieval     \n",
      "-----------------------------\n",
      "Processing Record 1 of Set 1 | mar del plata\n",
      "http://api.openweathermap.org/data/2.5/weather?&q=mar del plata&units=Imperial&APPID=9ca5c6517ff2fd5bccc489757039fdc6\n",
      "City not found. Skipping...\n",
      "Processing Record 2 of Set 1 | la sarre\n",
      "http://api.openweathermap.org/data/2.5/weather?&q=la sarre&units=Imperial&APPID=9ca5c6517ff2fd5bccc489757039fdc6\n",
      "City not found. Skipping...\n",
      "Processing Record 3 of Set 1 | ushuaia\n",
      "http://api.openweathermap.org/data/2.5/weather?&q=ushuaia&units=Imperial&APPID=9ca5c6517ff2fd5bccc489757039fdc6\n",
      "City not found. Skipping...\n",
      "Processing Record 4 of Set 1 | qaanaaq\n",
      "http://api.openweathermap.org/data/2.5/weather?&q=qaanaaq&units=Imperial&APPID=9ca5c6517ff2fd5bccc489757039fdc6\n",
      "City not found. Skipping...\n",
      "Processing Record 5 of Set 1 | port alfred\n",
      "http://api.openweathermap.org/data/2.5/weather?&q=port alfred&units=Imperial&APPID=9ca5c6517ff2fd5bccc489757039fdc6\n",
      "City not found. Skipping...\n",
      "Processing Record 6 of Set 1 | beringovskiy\n",
      "http://api.openweathermap.org/data/2.5/weather?&q=beringovskiy&units=Imperial&APPID=9ca5c6517ff2fd5bccc489757039fdc6\n",
      "City not found. Skipping...\n",
      "Processing Record 7 of Set 1 | kruisfontein\n",
      "http://api.openweathermap.org/data/2.5/weather?&q=kruisfontein&units=Imperial&APPID=9ca5c6517ff2fd5bccc489757039fdc6\n",
      "City not found. Skipping...\n",
      "Processing Record 8 of Set 1 | leningradskiy\n",
      "http://api.openweathermap.org/data/2.5/weather?&q=leningradskiy&units=Imperial&APPID=9ca5c6517ff2fd5bccc489757039fdc6\n",
      "City not found. Skipping...\n",
      "Processing Record 9 of Set 1 | port elizabeth\n",
      "http://api.openweathermap.org/data/2.5/weather?&q=port elizabeth&units=Imperial&APPID=9ca5c6517ff2fd5bccc489757039fdc6\n",
      "City not found. Skipping...\n",
      "Processing Record 10 of Set 1 | attawapiskat\n",
      "http://api.openweathermap.org/data/2.5/weather?&q=attawapiskat&units=Imperial&APPID=9ca5c6517ff2fd5bccc489757039fdc6\n",
      "City not found. Skipping...\n",
      "Processing Record 11 of Set 1 | doka\n",
      "http://api.openweathermap.org/data/2.5/weather?&q=doka&units=Imperial&APPID=9ca5c6517ff2fd5bccc489757039fdc6\n",
      "City not found. Skipping...\n",
      "Processing Record 12 of Set 1 | ribeira grande\n",
      "http://api.openweathermap.org/data/2.5/weather?&q=ribeira grande&units=Imperial&APPID=9ca5c6517ff2fd5bccc489757039fdc6\n",
      "City not found. Skipping...\n",
      "Processing Record 13 of Set 1 | turukhansk\n",
      "http://api.openweathermap.org/data/2.5/weather?&q=turukhansk&units=Imperial&APPID=9ca5c6517ff2fd5bccc489757039fdc6\n",
      "City not found. Skipping...\n",
      "Processing Record 14 of Set 1 | illoqqortoormiut\n",
      "http://api.openweathermap.org/data/2.5/weather?&q=illoqqortoormiut&units=Imperial&APPID=9ca5c6517ff2fd5bccc489757039fdc6\n",
      "City not found. Skipping...\n",
      "Processing Record 15 of Set 1 | airai\n",
      "http://api.openweathermap.org/data/2.5/weather?&q=airai&units=Imperial&APPID=9ca5c6517ff2fd5bccc489757039fdc6\n",
      "City not found. Skipping...\n",
      "Processing Record 16 of Set 1 | hofn\n",
      "http://api.openweathermap.org/data/2.5/weather?&q=hofn&units=Imperial&APPID=9ca5c6517ff2fd5bccc489757039fdc6\n",
      "City not found. Skipping...\n",
      "Processing Record 17 of Set 1 | beya\n",
      "http://api.openweathermap.org/data/2.5/weather?&q=beya&units=Imperial&APPID=9ca5c6517ff2fd5bccc489757039fdc6\n",
      "City not found. Skipping...\n",
      "Processing Record 18 of Set 1 | zeya\n",
      "http://api.openweathermap.org/data/2.5/weather?&q=zeya&units=Imperial&APPID=9ca5c6517ff2fd5bccc489757039fdc6\n",
      "City not found. Skipping...\n",
      "Processing Record 19 of Set 1 | coquimbo\n",
      "http://api.openweathermap.org/data/2.5/weather?&q=coquimbo&units=Imperial&APPID=9ca5c6517ff2fd5bccc489757039fdc6\n",
      "City not found. Skipping...\n",
      "Processing Record 20 of Set 1 | makakilo city\n",
      "http://api.openweathermap.org/data/2.5/weather?&q=makakilo city&units=Imperial&APPID=9ca5c6517ff2fd5bccc489757039fdc6\n",
      "City not found. Skipping...\n",
      "-----------------------------\n",
      "Data Retrieval Complete      \n",
      "-----------------------------\n"
     ]
    }
   ],
   "source": [
    "# # Starting URL for Weather Map API Call\n",
    "# #url = \"http://api.openweathermap.org/data/2.5/weather?units=Imperial&APPID=\" + api_key \n",
    "# url = \"http://api.openweathermap.org/data/2.5/weather?\"\n",
    "# # http://api.openweathermap.org/data/2.5/weather?q=ushuaia&APPID=4618391868174c00dd8e8f2a85ecb145\n",
    "# # List of city data\n",
    "# city_data = []\n",
    "# # Print to logger\n",
    "# print(\"Beginning Data Retrieval     \")\n",
    "# print(\"-----------------------------\")\n",
    "# # Create counters\n",
    "# record_count = 1\n",
    "# set_count = 1\n",
    "# # Loop through all the cities in our list\n",
    "# for i, city in enumerate(cities[0:20]):\n",
    "#     # Group cities in sets of 50 for logging purposes\n",
    "#     if (i % 50 == 0 and i >= 50):\n",
    "#         set_count += 1\n",
    "#         record_count = 0\n",
    "#     # Create endpoint URL with each city\n",
    "#     #http://api.openweathermap.org/data/2.5/weather?q=ushuaia&APPID=4618391868174c00dd8e8f2a85ecb145\n",
    "#     city_url = url + \"&q=\" + city + \"&units=Imperial&APPID=\" + api_key\n",
    "#     # Log the url, record, and set numbers\n",
    "#     print(\"Processing Record %s of Set %s | %s\" % (record_count, set_count, city))\n",
    "#     # Add 1 to the record count\n",
    "#     record_count += 1\n",
    "#     # Run an API request for each of the cities\n",
    "#     try:\n",
    "#         # Parse the JSON and retrieve data\n",
    "#         city_weather = requests.get(city_url).json()\n",
    "#         print(city_url)\n",
    "#         # Parse out the max temp, humidity, and cloudiness\n",
    "#         city_lat = city_weather[\"coord\"][\"lat\"]\n",
    "#         city_lng = city_weather[\"coord\"][\"lon\"]\n",
    "#         city_max_temp = city_weather[\"main\"][\"temp_max\"]\n",
    "#         city_humidity = city_weather[\"main\"][\"humidity\"]\n",
    "#         city_clouds = city_weather[\"clouds\"][\"all\"]\n",
    "#         city_wind = city_weather[\"wind\"][\"speed\"]\n",
    "#         city_country = city_weather[\"sys\"][\"country\"]\n",
    "#         city_date = city_weather[\"dt\"]\n",
    "#         # Append the City information into city_data list\n",
    "#         city_data.append({\"City\": city, \n",
    "#                           \"Lat\": city_lat, \n",
    "#                           \"Lng\": city_lng, \n",
    "#                           \"Max Temp\": city_max_temp,\n",
    "#                           \"Humidity\": city_humidity,\n",
    "#                           \"Cloudiness\": city_clouds,\n",
    "#                           \"Wind Speed\": city_wind,\n",
    "#                           \"Country\": city_country,\n",
    "#                           \"Date\": city_date})\n",
    "#     # If an error is experienced, skip the city\n",
    "#     except:\n",
    "#         print(\"City not found. Skipping...\")\n",
    "#         pass\n",
    "# # Indicate that Data Loading is complete \n",
    "# print(\"-----------------------------\")\n",
    "# print(\"Data Retrieval Complete      \")\n",
    "# print(\"-----------------------------\")"
   ]
  },
  {
   "cell_type": "code",
   "execution_count": 5,
   "metadata": {},
   "outputs": [
    {
     "data": {
      "text/html": [
       "<div>\n",
       "<style scoped>\n",
       "    .dataframe tbody tr th:only-of-type {\n",
       "        vertical-align: middle;\n",
       "    }\n",
       "\n",
       "    .dataframe tbody tr th {\n",
       "        vertical-align: top;\n",
       "    }\n",
       "\n",
       "    .dataframe thead th {\n",
       "        text-align: right;\n",
       "    }\n",
       "</style>\n",
       "<table border=\"1\" class=\"dataframe\">\n",
       "  <thead>\n",
       "    <tr style=\"text-align: right;\">\n",
       "      <th></th>\n",
       "    </tr>\n",
       "  </thead>\n",
       "  <tbody>\n",
       "  </tbody>\n",
       "</table>\n",
       "</div>"
      ],
      "text/plain": [
       "Empty DataFrame\n",
       "Columns: []\n",
       "Index: []"
      ]
     },
     "execution_count": 5,
     "metadata": {},
     "output_type": "execute_result"
    }
   ],
   "source": []
  },
  {
   "cell_type": "code",
   "execution_count": null,
   "metadata": {},
   "outputs": [],
   "source": []
  },
  {
   "cell_type": "markdown",
   "metadata": {},
   "source": [
    "### Plotting the Data\n",
    "* Use proper labeling of the plots using plot titles (including date of analysis) and axes labels.\n",
    "* Save the plotted figures as .pngs."
   ]
  },
  {
   "cell_type": "markdown",
   "metadata": {},
   "source": [
    "#### Latitude vs. Temperature Plot"
   ]
  },
  {
   "cell_type": "code",
   "execution_count": null,
   "metadata": {},
   "outputs": [],
   "source": []
  },
  {
   "cell_type": "markdown",
   "metadata": {},
   "source": [
    "#### Latitude vs. Humidity Plot"
   ]
  },
  {
   "cell_type": "code",
   "execution_count": null,
   "metadata": {},
   "outputs": [],
   "source": []
  },
  {
   "cell_type": "markdown",
   "metadata": {},
   "source": [
    "#### Latitude vs. Cloudiness Plot"
   ]
  },
  {
   "cell_type": "code",
   "execution_count": null,
   "metadata": {},
   "outputs": [],
   "source": []
  },
  {
   "cell_type": "markdown",
   "metadata": {},
   "source": [
    "#### Latitude vs. Wind Speed Plot"
   ]
  },
  {
   "cell_type": "code",
   "execution_count": null,
   "metadata": {},
   "outputs": [],
   "source": []
  },
  {
   "cell_type": "code",
   "execution_count": null,
   "metadata": {},
   "outputs": [],
   "source": []
  }
 ],
 "metadata": {
  "anaconda-cloud": {},
  "kernel_info": {
   "name": "python3"
  },
  "kernelspec": {
   "display_name": "Python 3",
   "language": "python",
   "name": "python3"
  },
  "language_info": {
   "codemirror_mode": {
    "name": "ipython",
    "version": 3
   },
   "file_extension": ".py",
   "mimetype": "text/x-python",
   "name": "python",
   "nbconvert_exporter": "python",
   "pygments_lexer": "ipython3",
   "version": "3.6.9"
  },
  "nteract": {
   "version": "0.12.3"
  }
 },
 "nbformat": 4,
 "nbformat_minor": 2
}
