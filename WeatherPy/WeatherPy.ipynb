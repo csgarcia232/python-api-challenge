{
 "cells": [
  {
   "cell_type": "markdown",
   "metadata": {},
   "source": [
    "# WeatherPy\n",
    "----\n",
    "\n",
    "#### Note\n",
    "* Instructions have been included for each segment. You do not have to follow them exactly, but they are included to help you think through the steps."
   ]
  },
  {
   "cell_type": "code",
   "execution_count": 5,
   "metadata": {
    "scrolled": true
   },
   "outputs": [],
   "source": [
    "# Dependencies and Setup\n",
    "import matplotlib.pyplot as plt\n",
    "import pandas as pd\n",
    "import numpy as np\n",
    "import requests\n",
    "import time\n",
    "\n",
    "# Import API key\n",
    "from api_keys import api_key\n",
    "\n",
    "# Incorporated citipy to determine city based on latitude and longitude\n",
    "from citipy import citipy\n",
    "\n",
    "# Output File (CSV)\n",
    "output_data_file = \"output_data/cities.csv\"\n",
    "\n",
    "# Range of latitudes and longitudes\n",
    "lat_range = (-90, 90)\n",
    "lng_range = (-180, 180)\n"
   ]
  },
  {
   "cell_type": "markdown",
   "metadata": {},
   "source": [
    "## Generate Cities List"
   ]
  },
  {
   "cell_type": "code",
   "execution_count": 6,
   "metadata": {},
   "outputs": [
    {
     "data": {
      "text/plain": [
       "604"
      ]
     },
     "execution_count": 6,
     "metadata": {},
     "output_type": "execute_result"
    }
   ],
   "source": [
    "# List for holding lat_lngs and cities\n",
    "lat_lngs = []\n",
    "cities = []\n",
    "\n",
    "# Create a set of random lat and lng combinations\n",
    "lats = np.random.uniform(low=-90.000, high=90.000, size=1500)\n",
    "lngs = np.random.uniform(low=-180.000, high=180.000, size=1500)\n",
    "lat_lngs = zip(lats, lngs)\n",
    "\n",
    "# Identify nearest city for each lat, lng combination\n",
    "for lat_lng in lat_lngs:\n",
    "    city = citipy.nearest_city(lat_lng[0], lat_lng[1]).city_name\n",
    "    \n",
    "    # If the city is unique, then add it to a our cities list\n",
    "    if city not in cities:\n",
    "        cities.append(city)\n",
    "\n",
    "# Print the city count to confirm sufficient count\n",
    "len(cities)"
   ]
  },
  {
   "cell_type": "markdown",
   "metadata": {},
   "source": [
    "### Perform API Calls\n",
    "* Perform a weather check on each city using a series of successive API calls.\n",
    "* Include a print log of each city as it'sbeing processed (with the city number and city name).\n"
   ]
  },
  {
   "cell_type": "code",
   "execution_count": 3,
   "metadata": {},
   "outputs": [],
   "source": [
    "# # # Api information.\n",
    "# url = \"http://api.openweathermap.org/data/2.5/weather?\"\n",
    "\n",
    "# # Create Lists to Append API Data\n",
    "# city_data = []\n",
    "\n",
    "# print('Beginning Data Retrieval')\n",
    "# print('------------------------')\n",
    "\n",
    "# api_call_limit = 1\n",
    "# count_set = 0\n",
    "\n",
    "\n",
    "# for city in cities[0:10]:\n",
    "# # Build partial query URL\n",
    "#     query_url = url + \"&q=\" + city + \"&units=Imperial&APPID=\" + api_key\n",
    "\n",
    "    \n",
    "#     if api_call_limit < 50:\n",
    "#         api_call_limit += 1\n",
    "        \n",
    "#     else:\n",
    "#         count_set += 1\n",
    "#         api_call_limit = 0\n",
    "    \n",
    "    \n",
    "#     print('Processing record {} of set {} | {}'.format(api_call_limit, count_set, city))\n",
    "#     print(query_url)\n",
    "    \n",
    "#     try:\n",
    "#         response = requests.get(query_url).json()\n",
    "        \n",
    "#         Lat = response['coord']['lat']\n",
    "#         Lng = response['coord']['lng']\n",
    "#         Date = response['dt']['']\n",
    "#         City_Name = response['name']['']\n",
    "#         Country = response['sys']['country']\n",
    "#         Temperature = response['main']['temp']\n",
    "#         Cloudiness = response['clouds']['all']\n",
    "#         Humidity = response['main']['humidity']\n",
    "#         Wind_speed = response['wind']['speed']\n",
    "        \n",
    "#         city_data.append({\n",
    "#             \"City\": City_Name,\n",
    "#             \"Country\": Country,\n",
    "#             \"Latitude\": Lat,\n",
    "#             \"Longitude\": Lng,\n",
    "#             \"Date\": Date,\n",
    "#             \"Temperature\": Temperature,\n",
    "#             \"Cloudiness\": Cloudiness,\n",
    "#             \"Humidity\": Humidity,\n",
    "#             \"Wind Speed\": Wind_speed})\n",
    "        \n",
    "#     except:\n",
    "#         print(\"City not found, skipping...\")\n",
    "     \n",
    "# print('Data Retrieval Complete')\n",
    "# print('-------------------------')\n",
    "    \n",
    "    "
   ]
  },
  {
   "cell_type": "markdown",
   "metadata": {},
   "source": [
    "### Convert Raw Data to DataFrame\n",
    "* Export the city data into a .csv.\n",
    "* Display the DataFrame"
   ]
  },
  {
   "cell_type": "code",
   "execution_count": 4,
   "metadata": {},
   "outputs": [
    {
     "name": "stdout",
     "output_type": "stream",
     "text": [
      "Beginning Data Retrieval     \n",
      "-----------------------------\n",
      "Processing Record 1 of Set 1 | mar del plata\n",
      "http://api.openweathermap.org/data/2.5/weather?&q=mar del plata&units=Imperial&APPID=9ca5c6517ff2fd5bccc489757039fdc6\n",
      "City not found. Skipping...\n",
      "Processing Record 2 of Set 1 | la sarre\n",
      "http://api.openweathermap.org/data/2.5/weather?&q=la sarre&units=Imperial&APPID=9ca5c6517ff2fd5bccc489757039fdc6\n",
      "City not found. Skipping...\n",
      "Processing Record 3 of Set 1 | ushuaia\n",
      "http://api.openweathermap.org/data/2.5/weather?&q=ushuaia&units=Imperial&APPID=9ca5c6517ff2fd5bccc489757039fdc6\n",
      "City not found. Skipping...\n",
      "Processing Record 4 of Set 1 | qaanaaq\n",
      "http://api.openweathermap.org/data/2.5/weather?&q=qaanaaq&units=Imperial&APPID=9ca5c6517ff2fd5bccc489757039fdc6\n",
      "City not found. Skipping...\n",
      "Processing Record 5 of Set 1 | port alfred\n",
      "http://api.openweathermap.org/data/2.5/weather?&q=port alfred&units=Imperial&APPID=9ca5c6517ff2fd5bccc489757039fdc6\n",
      "City not found. Skipping...\n",
      "Processing Record 6 of Set 1 | beringovskiy\n",
      "http://api.openweathermap.org/data/2.5/weather?&q=beringovskiy&units=Imperial&APPID=9ca5c6517ff2fd5bccc489757039fdc6\n",
      "City not found. Skipping...\n",
      "Processing Record 7 of Set 1 | kruisfontein\n",
      "http://api.openweathermap.org/data/2.5/weather?&q=kruisfontein&units=Imperial&APPID=9ca5c6517ff2fd5bccc489757039fdc6\n",
      "City not found. Skipping...\n",
      "Processing Record 8 of Set 1 | leningradskiy\n",
      "http://api.openweathermap.org/data/2.5/weather?&q=leningradskiy&units=Imperial&APPID=9ca5c6517ff2fd5bccc489757039fdc6\n",
      "City not found. Skipping...\n",
      "Processing Record 9 of Set 1 | port elizabeth\n",
      "http://api.openweathermap.org/data/2.5/weather?&q=port elizabeth&units=Imperial&APPID=9ca5c6517ff2fd5bccc489757039fdc6\n",
      "City not found. Skipping...\n",
      "Processing Record 10 of Set 1 | attawapiskat\n",
      "http://api.openweathermap.org/data/2.5/weather?&q=attawapiskat&units=Imperial&APPID=9ca5c6517ff2fd5bccc489757039fdc6\n",
      "City not found. Skipping...\n",
      "Processing Record 11 of Set 1 | doka\n",
      "http://api.openweathermap.org/data/2.5/weather?&q=doka&units=Imperial&APPID=9ca5c6517ff2fd5bccc489757039fdc6\n",
      "City not found. Skipping...\n",
      "Processing Record 12 of Set 1 | ribeira grande\n",
      "http://api.openweathermap.org/data/2.5/weather?&q=ribeira grande&units=Imperial&APPID=9ca5c6517ff2fd5bccc489757039fdc6\n",
      "City not found. Skipping...\n",
      "Processing Record 13 of Set 1 | turukhansk\n",
      "http://api.openweathermap.org/data/2.5/weather?&q=turukhansk&units=Imperial&APPID=9ca5c6517ff2fd5bccc489757039fdc6\n",
      "City not found. Skipping...\n",
      "Processing Record 14 of Set 1 | illoqqortoormiut\n",
      "http://api.openweathermap.org/data/2.5/weather?&q=illoqqortoormiut&units=Imperial&APPID=9ca5c6517ff2fd5bccc489757039fdc6\n",
      "City not found. Skipping...\n",
      "Processing Record 15 of Set 1 | airai\n",
      "http://api.openweathermap.org/data/2.5/weather?&q=airai&units=Imperial&APPID=9ca5c6517ff2fd5bccc489757039fdc6\n",
      "City not found. Skipping...\n",
      "Processing Record 16 of Set 1 | hofn\n",
      "http://api.openweathermap.org/data/2.5/weather?&q=hofn&units=Imperial&APPID=9ca5c6517ff2fd5bccc489757039fdc6\n",
      "City not found. Skipping...\n",
      "Processing Record 17 of Set 1 | beya\n",
      "http://api.openweathermap.org/data/2.5/weather?&q=beya&units=Imperial&APPID=9ca5c6517ff2fd5bccc489757039fdc6\n",
      "City not found. Skipping...\n",
      "Processing Record 18 of Set 1 | zeya\n",
      "http://api.openweathermap.org/data/2.5/weather?&q=zeya&units=Imperial&APPID=9ca5c6517ff2fd5bccc489757039fdc6\n",
      "City not found. Skipping...\n",
      "Processing Record 19 of Set 1 | coquimbo\n",
      "http://api.openweathermap.org/data/2.5/weather?&q=coquimbo&units=Imperial&APPID=9ca5c6517ff2fd5bccc489757039fdc6\n",
      "City not found. Skipping...\n",
      "Processing Record 20 of Set 1 | makakilo city\n",
      "http://api.openweathermap.org/data/2.5/weather?&q=makakilo city&units=Imperial&APPID=9ca5c6517ff2fd5bccc489757039fdc6\n",
      "City not found. Skipping...\n",
      "-----------------------------\n",
      "Data Retrieval Complete      \n",
      "-----------------------------\n"
     ]
    }
   ],
   "source": [
    "# # Starting URL for Weather Map API Call\n",
    "# #url = \"http://api.openweathermap.org/data/2.5/weather?units=Imperial&APPID=\" + api_key \n",
    "# url = \"http://api.openweathermap.org/data/2.5/weather?\"\n",
    "# # http://api.openweathermap.org/data/2.5/weather?q=ushuaia&APPID=4618391868174c00dd8e8f2a85ecb145\n",
    "# # List of city data\n",
    "# city_data = []\n",
    "# # Print to logger\n",
    "# print(\"Beginning Data Retrieval     \")\n",
    "# print(\"-----------------------------\")\n",
    "# # Create counters\n",
    "# record_count = 1\n",
    "# set_count = 1\n",
    "# # Loop through all the cities in our list\n",
    "# for i, city in enumerate(cities[0:20]):\n",
    "#     # Group cities in sets of 50 for logging purposes\n",
    "#     if (i % 50 == 0 and i >= 50):\n",
    "#         set_count += 1\n",
    "#         record_count = 0\n",
    "#     # Create endpoint URL with each city\n",
    "#     #http://api.openweathermap.org/data/2.5/weather?q=ushuaia&APPID=4618391868174c00dd8e8f2a85ecb145\n",
    "#     city_url = url + \"&q=\" + city + \"&units=Imperial&APPID=\" + api_key\n",
    "#     # Log the url, record, and set numbers\n",
    "#     print(\"Processing Record %s of Set %s | %s\" % (record_count, set_count, city))\n",
    "#     # Add 1 to the record count\n",
    "#     record_count += 1\n",
    "#     # Run an API request for each of the cities\n",
    "#     try:\n",
    "#         # Parse the JSON and retrieve data\n",
    "#         city_weather = requests.get(city_url).json()\n",
    "#         print(city_url)\n",
    "#         # Parse out the max temp, humidity, and cloudiness\n",
    "#         city_lat = city_weather[\"coord\"][\"lat\"]\n",
    "#         city_lng = city_weather[\"coord\"][\"lon\"]\n",
    "#         city_max_temp = city_weather[\"main\"][\"temp_max\"]\n",
    "#         city_humidity = city_weather[\"main\"][\"humidity\"]\n",
    "#         city_clouds = city_weather[\"clouds\"][\"all\"]\n",
    "#         city_wind = city_weather[\"wind\"][\"speed\"]\n",
    "#         city_country = city_weather[\"sys\"][\"country\"]\n",
    "#         city_date = city_weather[\"dt\"]\n",
    "#         # Append the City information into city_data list\n",
    "#         city_data.append({\"City\": city, \n",
    "#                           \"Lat\": city_lat, \n",
    "#                           \"Lng\": city_lng, \n",
    "#                           \"Max Temp\": city_max_temp,\n",
    "#                           \"Humidity\": city_humidity,\n",
    "#                           \"Cloudiness\": city_clouds,\n",
    "#                           \"Wind Speed\": city_wind,\n",
    "#                           \"Country\": city_country,\n",
    "#                           \"Date\": city_date})\n",
    "#     # If an error is experienced, skip the city\n",
    "#     except:\n",
    "#         print(\"City not found. Skipping...\")\n",
    "#         pass\n",
    "# # Indicate that Data Loading is complete \n",
    "# print(\"-----------------------------\")\n",
    "# print(\"Data Retrieval Complete      \")\n",
    "# print(\"-----------------------------\")"
   ]
  },
  {
   "cell_type": "code",
   "execution_count": 7,
   "metadata": {},
   "outputs": [
    {
     "data": {
      "text/html": [
       "<div>\n",
       "<style scoped>\n",
       "    .dataframe tbody tr th:only-of-type {\n",
       "        vertical-align: middle;\n",
       "    }\n",
       "\n",
       "    .dataframe tbody tr th {\n",
       "        vertical-align: top;\n",
       "    }\n",
       "\n",
       "    .dataframe thead th {\n",
       "        text-align: right;\n",
       "    }\n",
       "</style>\n",
       "<table border=\"1\" class=\"dataframe\">\n",
       "  <thead>\n",
       "    <tr style=\"text-align: right;\">\n",
       "      <th></th>\n",
       "      <th>City</th>\n",
       "      <th>Lat</th>\n",
       "      <th>Lng</th>\n",
       "      <th>Max Temp</th>\n",
       "      <th>Humidity</th>\n",
       "      <th>Cloudiness</th>\n",
       "      <th>Wind Speed</th>\n",
       "      <th>Country</th>\n",
       "      <th>Date</th>\n",
       "    </tr>\n",
       "  </thead>\n",
       "  <tbody>\n",
       "    <tr>\n",
       "      <th>0</th>\n",
       "      <td>saint-philippe</td>\n",
       "      <td>-21.36</td>\n",
       "      <td>55.77</td>\n",
       "      <td>80.60</td>\n",
       "      <td>78</td>\n",
       "      <td>50</td>\n",
       "      <td>5.82</td>\n",
       "      <td>RE</td>\n",
       "      <td>1583003139</td>\n",
       "    </tr>\n",
       "    <tr>\n",
       "      <th>1</th>\n",
       "      <td>hermanus</td>\n",
       "      <td>-34.42</td>\n",
       "      <td>19.23</td>\n",
       "      <td>73.99</td>\n",
       "      <td>71</td>\n",
       "      <td>0</td>\n",
       "      <td>8.01</td>\n",
       "      <td>ZA</td>\n",
       "      <td>1583003139</td>\n",
       "    </tr>\n",
       "    <tr>\n",
       "      <th>2</th>\n",
       "      <td>nehe</td>\n",
       "      <td>48.48</td>\n",
       "      <td>124.83</td>\n",
       "      <td>4.71</td>\n",
       "      <td>89</td>\n",
       "      <td>29</td>\n",
       "      <td>3.04</td>\n",
       "      <td>CN</td>\n",
       "      <td>1583003139</td>\n",
       "    </tr>\n",
       "    <tr>\n",
       "      <th>3</th>\n",
       "      <td>yellowknife</td>\n",
       "      <td>62.46</td>\n",
       "      <td>-114.35</td>\n",
       "      <td>-2.00</td>\n",
       "      <td>70</td>\n",
       "      <td>75</td>\n",
       "      <td>12.75</td>\n",
       "      <td>CA</td>\n",
       "      <td>1583003140</td>\n",
       "    </tr>\n",
       "    <tr>\n",
       "      <th>4</th>\n",
       "      <td>taltal</td>\n",
       "      <td>-25.40</td>\n",
       "      <td>-70.48</td>\n",
       "      <td>68.88</td>\n",
       "      <td>69</td>\n",
       "      <td>34</td>\n",
       "      <td>8.28</td>\n",
       "      <td>CL</td>\n",
       "      <td>1583003140</td>\n",
       "    </tr>\n",
       "  </tbody>\n",
       "</table>\n",
       "</div>"
      ],
      "text/plain": [
       "             City    Lat     Lng  Max Temp  Humidity  Cloudiness  Wind Speed  \\\n",
       "0  saint-philippe -21.36   55.77     80.60        78          50        5.82   \n",
       "1        hermanus -34.42   19.23     73.99        71           0        8.01   \n",
       "2            nehe  48.48  124.83      4.71        89          29        3.04   \n",
       "3     yellowknife  62.46 -114.35     -2.00        70          75       12.75   \n",
       "4          taltal -25.40  -70.48     68.88        69          34        8.28   \n",
       "\n",
       "  Country        Date  \n",
       "0      RE  1583003139  \n",
       "1      ZA  1583003139  \n",
       "2      CN  1583003139  \n",
       "3      CA  1583003140  \n",
       "4      CL  1583003140  "
      ]
     },
     "execution_count": 7,
     "metadata": {},
     "output_type": "execute_result"
    }
   ],
   "source": [
    "city_data = [{'City': 'saint-philippe', 'Lat': -21.36, 'Lng': 55.77, 'Max Temp': 80.6, 'Humidity': 78, 'Cloudiness': 50, 'Wind Speed': 5.82, 'Country': 'RE', 'Date': 1583003139}, {'City': 'hermanus', 'Lat': -34.42, 'Lng': 19.23, 'Max Temp': 73.99, 'Humidity': 71, 'Cloudiness': 0, 'Wind Speed': 8.01, 'Country': 'ZA', 'Date': 1583003139}, {'City': 'nehe', 'Lat': 48.48, 'Lng': 124.83, 'Max Temp': 4.71, 'Humidity': 89, 'Cloudiness': 29, 'Wind Speed': 3.04, 'Country': 'CN', 'Date': 1583003139}, {'City': 'yellowknife', 'Lat': 62.46, 'Lng': -114.35, 'Max Temp': -2, 'Humidity': 70, 'Cloudiness': 75, 'Wind Speed': 12.75, 'Country': 'CA', 'Date': 1583003140}, {'City': 'taltal', 'Lat': -25.4, 'Lng': -70.48, 'Max Temp': 68.88, 'Humidity': 69, 'Cloudiness': 34, 'Wind Speed': 8.28, 'Country': 'CL', 'Date': 1583003140}, {'City': 'lagoa', 'Lat': 39.05, 'Lng': -27.98, 'Max Temp': 62.4, 'Humidity': 86, 'Cloudiness': 100, 'Wind Speed': 21.72, 'Country': 'PT', 'Date': 1583003140}, {'City': 'castro', 'Lat': -24.79, 'Lng': -50.01, 'Max Temp': 75.61, 'Humidity': 53, 'Cloudiness': 23, 'Wind Speed': 6.02, 'Country': 'BR', 'Date': 1583003140}, {'City': 'vaini', 'Lat': -21.2, 'Lng': -175.2, 'Max Temp': 78.8, 'Humidity': 94, 'Cloudiness': 40, 'Wind Speed': 6.93, 'Country': 'TO', 'Date': 1583003140}, {'City': 'khatanga', 'Lat': 71.97, 'Lng': 102.5, 'Max Temp': 4.3, 'Humidity': 93, 'Cloudiness': 98, 'Wind Speed': 14.36, 'Country': 'RU', 'Date': 1583002985}, {'City': 'new norfolk', 'Lat': -42.78, 'Lng': 147.06, 'Max Temp': 53.6, 'Humidity': 87, 'Cloudiness': 3, 'Wind Speed': 9.17, 'Country': 'AU', 'Date': 1583002925}, {'City': 'ahipara', 'Lat': -35.17, 'Lng': 173.17, 'Max Temp': 64, 'Humidity': 100, 'Cloudiness': 99, 'Wind Speed': 5.91, 'Country': 'NZ', 'Date': 1583003140}, {'City': 'vao', 'Lat': -22.67, 'Lng': 167.48, 'Max Temp': 79.92, 'Humidity': 84, 'Cloudiness': 100, 'Wind Speed': 22.88, 'Country': 'NC', 'Date': 1583003140}, {'City': 'ponta do sol', 'Lat': 32.67, 'Lng': -17.1, 'Max Temp': 68, 'Humidity': 68, 'Cloudiness': 75, 'Wind Speed': 4.7, 'Country': 'PT', 'Date': 1583003000}, {'City': 'busselton', 'Lat': -33.65, 'Lng': 115.33, 'Max Temp': 68, 'Humidity': 56, 'Cloudiness': 46, 'Wind Speed': 18.14, 'Country': 'AU', 'Date': 1583003141}, {'City': 'saint george', 'Lat': 37.1, 'Lng': -113.58, 'Max Temp': 59, 'Humidity': 22, 'Cloudiness': 100, 'Wind Speed': 5.82, 'Country': 'US', 'Date': 1583002880}, {'City': 'fare', 'Lat': -16.7, 'Lng': -151.02, 'Max Temp': 80.55, 'Humidity': 81, 'Cloudiness': 100, 'Wind Speed': 13.09, 'Country': 'PF', 'Date': 1583002966}, {'City': 'sarankhola', 'Lat': 22.31, 'Lng': 89.79, 'Max Temp': 65.75, 'Humidity': 68, 'Cloudiness': 0, 'Wind Speed': 6.64, 'Country': 'BD', 'Date': 1583003141}, {'City': 'albany', 'Lat': 42.6, 'Lng': -73.97, 'Max Temp': 28.99, 'Humidity': 57, 'Cloudiness': 90, 'Wind Speed': 11.41, 'Country': 'US', 'Date': 1583003102}, {'City': 'namatanai', 'Lat': -3.67, 'Lng': 152.43, 'Max Temp': 82.81, 'Humidity': 76, 'Cloudiness': 62, 'Wind Speed': 3.58, 'Country': 'PG', 'Date': 1583003016}, {'City': 'bitung', 'Lat': 1.45, 'Lng': 125.18, 'Max Temp': 77, 'Humidity': 100, 'Cloudiness': 40, 'Wind Speed': 4.7, 'Country': 'ID', 'Date': 1583003141}, {'City': 'rikitea', 'Lat': -23.12, 'Lng': -134.97, 'Max Temp': 79.84, 'Humidity': 80, 'Cloudiness': 99, 'Wind Speed': 13.56, 'Country': 'PF', 'Date': 1583003141}, {'City': 'cape town', 'Lat': -33.93, 'Lng': 18.42, 'Max Temp': 73.99, 'Humidity': 56, 'Cloudiness': 0, 'Wind Speed': 12.75, 'Country': 'ZA', 'Date': 1583003097}, {'City': 'punta arenas', 'Lat': -53.15, 'Lng': -70.92, 'Max Temp': 66.2, 'Humidity': 59, 'Cloudiness': 75, 'Wind Speed': 27.51, 'Country': 'CL', 'Date': 1583003032}, {'City': 'bethel', 'Lat': 41.37, 'Lng': -73.41, 'Max Temp': 37, 'Humidity': 42, 'Cloudiness': 90, 'Wind Speed': 12.75, 'Country': 'US', 'Date': 1583003138}, {'City': 'mataura', 'Lat': -46.19, 'Lng': 168.86, 'Max Temp': 48.99, 'Humidity': 87, 'Cloudiness': 57, 'Wind Speed': 1.99, 'Country': 'NZ', 'Date': 1583003142}, {'City': 'road town', 'Lat': 18.42, 'Lng': -64.62, 'Max Temp': 82.4, 'Humidity': 74, 'Cloudiness': 40, 'Wind Speed': 8.05, 'Country': 'VG', 'Date': 1583003142}, {'City': 'viedma', 'Lat': -40.81, 'Lng': -63, 'Max Temp': 87.85, 'Humidity': 19, 'Cloudiness': 0, 'Wind Speed': 11.77, 'Country': 'AR', 'Date': 1583003142}, {'City': 'east london', 'Lat': -33.02, 'Lng': 27.91, 'Max Temp': 68, 'Humidity': 72, 'Cloudiness': 75, 'Wind Speed': 9.17, 'Country': 'ZA', 'Date': 1583003142}, {'City': 'sudak', 'Lat': 44.85, 'Lng': 34.97, 'Max Temp': 35.02, 'Humidity': 84, 'Cloudiness': 47, 'Wind Speed': 4.09, 'Country': 'UA', 'Date': 1583003142}, {'City': 'ushuaia', 'Lat': -54.8, 'Lng': -68.3, 'Max Temp': 60.8, 'Humidity': 67, 'Cloudiness': 75, 'Wind Speed': 3.36, 'Country': 'AR', 'Date': 1583003139}, {'City': 'kruisfontein', 'Lat': -34, 'Lng': 24.73, 'Max Temp': 63.61, 'Humidity': 81, 'Cloudiness': 23, 'Wind Speed': 18.05, 'Country': 'ZA', 'Date': 1583002979}, {'City': 'doha', 'Lat': 25.29, 'Lng': 51.53, 'Max Temp': 68, 'Humidity': 77, 'Cloudiness': 0, 'Wind Speed': 2.24, 'Country': 'QA', 'Date': 1583003139}, {'City': 'bluff', 'Lat': -46.6, 'Lng': 168.33, 'Max Temp': 48.99, 'Humidity': 87, 'Cloudiness': 33, 'Wind Speed': 1.99, 'Country': 'NZ', 'Date': 1583002938}, {'City': 'fortuna', 'Lat': 40.6, 'Lng': -124.16, 'Max Temp': 52, 'Humidity': 70, 'Cloudiness': 40, 'Wind Speed': 12.75, 'Country': 'US', 'Date': 1583003143}, {'City': 'cabo san lucas', 'Lat': 22.89, 'Lng': -109.91, 'Max Temp': 84, 'Humidity': 38, 'Cloudiness': 5, 'Wind Speed': 10.29, 'Country': 'MX', 'Date': 1583003013}, {'City': 'jamestown', 'Lat': 42.1, 'Lng': -79.24, 'Max Temp': 24.01, 'Humidity': 73, 'Cloudiness': 90, 'Wind Speed': 13.87, 'Country': 'US', 'Date': 1583003142}, {'City': 'bredasdorp', 'Lat': -34.53, 'Lng': 20.04, 'Max Temp': 66.2, 'Humidity': 68, 'Cloudiness': 0, 'Wind Speed': 19.46, 'Country': 'ZA', 'Date': 1583003143}, {'City': 'hobart', 'Lat': -42.88, 'Lng': 147.33, 'Max Temp': 53.6, 'Humidity': 87, 'Cloudiness': 0, 'Wind Speed': 9.17, 'Country': 'AU', 'Date': 1583002968}, {'City': 'hilo', 'Lat': 19.73, 'Lng': -155.09, 'Max Temp': 75, 'Humidity': 73, 'Cloudiness': 40, 'Wind Speed': 6.93, 'Country': 'US', 'Date': 1583002943}, {'City': 'nikolskoye', 'Lat': 59.7, 'Lng': 30.79, 'Max Temp': 28.4, 'Humidity': 86, 'Cloudiness': 90, 'Wind Speed': 6.71, 'Country': 'RU', 'Date': 1583003143}, {'City': 'ayan', 'Lat': 56.45, 'Lng': 138.17, 'Max Temp': 3.02, 'Humidity': 74, 'Cloudiness': 50, 'Wind Speed': 5.03, 'Country': 'RU', 'Date': 1583003144}, {'City': 'tallahassee', 'Lat': 30.44, 'Lng': -84.28, 'Max Temp': 66.99, 'Humidity': 25, 'Cloudiness': 1, 'Wind Speed': 16.11, 'Country': 'US', 'Date': 1583003070}, {'City': 'atuona', 'Lat': -9.8, 'Lng': -139.03, 'Max Temp': 81.59, 'Humidity': 80, 'Cloudiness': 85, 'Wind Speed': 18.88, 'Country': 'PF', 'Date': 1583003144}, {'City': 'kapaa', 'Lat': 22.08, 'Lng': -159.32, 'Max Temp': 73.4, 'Humidity': 69, 'Cloudiness': 75, 'Wind Speed': 25.28, 'Country': 'US', 'Date': 1583003144}, {'City': 'huron', 'Lat': 41.15, 'Lng': -82.55, 'Max Temp': 30, 'Humidity': 63, 'Cloudiness': 40, 'Wind Speed': 14.99, 'Country': 'US', 'Date': 1583003144}, {'City': 'solnechnyy', 'Lat': 50.72, 'Lng': 136.63, 'Max Temp': 8.1, 'Humidity': 79, 'Cloudiness': 0, 'Wind Speed': 5.86, 'Country': 'RU', 'Date': 1583003144}, {'City': 'luderitz', 'Lat': -26.65, 'Lng': 15.16, 'Max Temp': 66.2, 'Humidity': 88, 'Cloudiness': 87, 'Wind Speed': 11.41, 'Country': 'NA', 'Date': 1583003144}, {'City': 'kodiak', 'Lat': 57.79, 'Lng': -152.41, 'Max Temp': 28.4, 'Humidity': 86, 'Cloudiness': 90, 'Wind Speed': 3.36, 'Country': 'US', 'Date': 1583002927}, {'City': 'lompoc', 'Lat': 34.64, 'Lng': -120.46, 'Max Temp': 66, 'Humidity': 82, 'Cloudiness': 90, 'Wind Speed': 6.93, 'Country': 'US', 'Date': 1583003071}, {'City': 'sabha', 'Lat': 27.04, 'Lng': 14.43, 'Max Temp': 66.72, 'Humidity': 21, 'Cloudiness': 0, 'Wind Speed': 6.17, 'Country': 'LY', 'Date': 1583003144}, {'City': 'grindavik', 'Lat': 63.84, 'Lng': -22.43, 'Max Temp': 30.2, 'Humidity': 100, 'Cloudiness': 90, 'Wind Speed': 10.29, 'Country': 'IS', 'Date': 1583003144}, {'City': 'primero de enero', 'Lat': 21.95, 'Lng': -78.43, 'Max Temp': 73.4, 'Humidity': 49, 'Cloudiness': 40, 'Wind Speed': 18.34, 'Country': 'CU', 'Date': 1583003144}, {'City': 'nanortalik', 'Lat': 60.14, 'Lng': -45.24, 'Max Temp': 15.89, 'Humidity': 64, 'Cloudiness': 0, 'Wind Speed': 13.94, 'Country': 'GL', 'Date': 1583002935}, {'City': 'haines junction', 'Lat': 60.75, 'Lng': -137.51, 'Max Temp': -2.25, 'Humidity': 94, 'Cloudiness': 93, 'Wind Speed': 2.73, 'Country': 'CA', 'Date': 1583002983}, {'City': 'lasa', 'Lat': 46.62, 'Lng': 10.7, 'Max Temp': 50, 'Humidity': 85, 'Cloudiness': 90, 'Wind Speed': 8.05, 'Country': 'IT', 'Date': 1583003008}, {'City': 'lazaro cardenas', 'Lat': 17.96, 'Lng': -102.2, 'Max Temp': 89.13, 'Humidity': 37, 'Cloudiness': 0, 'Wind Speed': 8.5, 'Country': 'MX', 'Date': 1583003145}, {'City': 'ribeira grande', 'Lat': 38.52, 'Lng': -28.7, 'Max Temp': 62.6, 'Humidity': 88, 'Cloudiness': 75, 'Wind Speed': 16.11, 'Country': 'PT', 'Date': 1583002927}, {'City': 'nuuk', 'Lat': 64.18, 'Lng': -51.72, 'Max Temp': 6.8, 'Humidity': 46, 'Cloudiness': 20, 'Wind Speed': 13.87, 'Country': 'GL', 'Date': 1583002969}, {'City': 'tirumullaivasal', 'Lat': 11.23, 'Lng': 79.83, 'Max Temp': 80.67, 'Humidity': 72, 'Cloudiness': 52, 'Wind Speed': 17.34, 'Country': 'IN', 'Date': 1583003145}, {'City': 'torbay', 'Lat': 47.67, 'Lng': -52.73, 'Max Temp': 35.01, 'Humidity': 77, 'Cloudiness': 75, 'Wind Speed': 17.22, 'Country': 'CA', 'Date': 1583003145}, {'City': 'reconquista', 'Lat': -29.15, 'Lng': -59.65, 'Max Temp': 95.18, 'Humidity': 18, 'Cloudiness': 0, 'Wind Speed': 7.65, 'Country': 'AR', 'Date': 1583003145}, {'City': 'ampanihy', 'Lat': -24.7, 'Lng': 44.75, 'Max Temp': 72.19, 'Humidity': 82, 'Cloudiness': 83, 'Wind Speed': 12.73, 'Country': 'MG', 'Date': 1583003145}, {'City': 'niquero', 'Lat': 20.04, 'Lng': -77.58, 'Max Temp': 77.36, 'Humidity': 54, 'Cloudiness': 38, 'Wind Speed': 19.73, 'Country': 'CU', 'Date': 1583003145}, {'City': 'touros', 'Lat': -5.2, 'Lng': -35.46, 'Max Temp': 89.6, 'Humidity': 59, 'Cloudiness': 40, 'Wind Speed': 18.34, 'Country': 'BR', 'Date': 1583003146}, {'City': 'qaanaaq', 'Lat': 77.48, 'Lng': -69.36, 'Max Temp': -24.41, 'Humidity': 74, 'Cloudiness': 88, 'Wind Speed': 5.68, 'Country': 'GL', 'Date': 1583002985}, {'City': 'viru', 'Lat': -8.42, 'Lng': -78.75, 'Max Temp': 77, 'Humidity': 78, 'Cloudiness': 40, 'Wind Speed': 11.41, 'Country': 'PE', 'Date': 1583003146}, {'City': 'guerrero negro', 'Lat': 27.98, 'Lng': -114.06, 'Max Temp': 71.42, 'Humidity': 31, 'Cloudiness': 100, 'Wind Speed': 12.39, 'Country': 'MX', 'Date': 1583003139}, {'City': 'longyearbyen', 'Lat': 78.22, 'Lng': 15.64, 'Max Temp': -5.8, 'Humidity': 76, 'Cloudiness': 20, 'Wind Speed': 11.41, 'Country': 'SJ', 'Date': 1583003011}, {'City': 'victoria', 'Lat': 22.29, 'Lng': 114.16, 'Max Temp': 72, 'Humidity': 88, 'Cloudiness': 0, 'Wind Speed': 3.36, 'Country': 'HK', 'Date': 1583003146}, {'City': 'esperance', 'Lat': -33.87, 'Lng': 121.9, 'Max Temp': 66.2, 'Humidity': 93, 'Cloudiness': 90, 'Wind Speed': 12.75, 'Country': 'AU', 'Date': 1583002942}, {'City': 'naze', 'Lat': 28.37, 'Lng': 129.48, 'Max Temp': 66.2, 'Humidity': 100, 'Cloudiness': 90, 'Wind Speed': 4.7, 'Country': 'JP', 'Date': 1583003139}, {'City': 'vardo', 'Lat': 70.37, 'Lng': 31.11, 'Max Temp': 19.11, 'Humidity': 80, 'Cloudiness': 0, 'Wind Speed': 10.87, 'Country': 'NO', 'Date': 1583003147}, {'City': 'lebu', 'Lat': -37.62, 'Lng': -73.65, 'Max Temp': 82.9, 'Humidity': 30, 'Cloudiness': 0, 'Wind Speed': 5.99, 'Country': 'CL', 'Date': 1583002931}, {'City': 'dicabisagan', 'Lat': 17.08, 'Lng': 122.42, 'Max Temp': 73.99, 'Humidity': 83, 'Cloudiness': 2, 'Wind Speed': 5.46, 'Country': 'PH', 'Date': 1583003147}, {'City': 'hithadhoo', 'Lat': -0.6, 'Lng': 73.08, 'Max Temp': 83.17, 'Humidity': 79, 'Cloudiness': 100, 'Wind Speed': 15.17, 'Country': 'MV', 'Date': 1583003147}, {'City': 'port macquarie', 'Lat': -31.43, 'Lng': 152.92, 'Max Temp': 66.99, 'Humidity': 100, 'Cloudiness': 83, 'Wind Speed': 3.94, 'Country': 'AU', 'Date': 1583002942}, {'City': 'yanai', 'Lat': 33.97, 'Lng': 132.12, 'Max Temp': 45, 'Humidity': 100, 'Cloudiness': 20, 'Wind Speed': 5.82, 'Country': 'JP', 'Date': 1583003147}, {'City': 'cidreira', 'Lat': -30.18, 'Lng': -50.21, 'Max Temp': 73.4, 'Humidity': 73, 'Cloudiness': 0, 'Wind Speed': 10.67, 'Country': 'BR', 'Date': 1583003147}, {'City': 'alta floresta', 'Lat': -9.88, 'Lng': -56.09, 'Max Temp': 87.8, 'Humidity': 66, 'Cloudiness': 40, 'Wind Speed': 4.7, 'Country': 'BR', 'Date': 1583003147}, {'City': 'vila velha', 'Lat': -20.33, 'Lng': -40.29, 'Max Temp': 79, 'Humidity': 88, 'Cloudiness': 40, 'Wind Speed': 13.87, 'Country': 'BR', 'Date': 1583002933}, {'City': 'gamba', 'Lat': -2.65, 'Lng': 10, 'Max Temp': 78.8, 'Humidity': 83, 'Cloudiness': 100, 'Wind Speed': 7.65, 'Country': 'GA', 'Date': 1583002987}, {'City': 'los llanos de aridane', 'Lat': 28.66, 'Lng': -17.92, 'Max Temp': 66.2, 'Humidity': 72, 'Cloudiness': 75, 'Wind Speed': 11.41, 'Country': 'ES', 'Date': 1583003147}, {'City': 'tuktoyaktuk', 'Lat': 69.45, 'Lng': -133.04, 'Max Temp': -25.6, 'Humidity': 74, 'Cloudiness': 90, 'Wind Speed': 8.05, 'Country': 'CA', 'Date': 1583002973}, {'City': 'saalfeld', 'Lat': 50.65, 'Lng': 11.37, 'Max Temp': 50, 'Humidity': 81, 'Cloudiness': 40, 'Wind Speed': 16.11, 'Country': 'DE', 'Date': 1583003148}, {'City': 'vila franca do campo', 'Lat': 37.72, 'Lng': -25.43, 'Max Temp': 62.6, 'Humidity': 88, 'Cloudiness': 40, 'Wind Speed': 24.16, 'Country': 'PT', 'Date': 1583003148}, {'City': 'puerto ayora', 'Lat': -0.74, 'Lng': -90.35, 'Max Temp': 86, 'Humidity': 66, 'Cloudiness': 40, 'Wind Speed': 13.87, 'Country': 'EC', 'Date': 1583003148}, {'City': 'avarua', 'Lat': -21.21, 'Lng': -159.78, 'Max Temp': 77, 'Humidity': 94, 'Cloudiness': 8, 'Wind Speed': 5.82, 'Country': 'CK', 'Date': 1583003148}, {'City': 'severo-kurilsk', 'Lat': 50.68, 'Lng': 156.12, 'Max Temp': 21.7, 'Humidity': 93, 'Cloudiness': 95, 'Wind Speed': 7.43, 'Country': 'RU', 'Date': 1583002993}, {'City': 'saint-georges', 'Lat': 12.06, 'Lng': -61.75, 'Max Temp': 82.4, 'Humidity': 65, 'Cloudiness': 20, 'Wind Speed': 19.46, 'Country': 'GD', 'Date': 1583003148}, {'City': 'san isidro', 'Lat': -12.12, 'Lng': -77.05, 'Max Temp': 80.6, 'Humidity': 65, 'Cloudiness': 17, 'Wind Speed': 12.75, 'Country': 'PE', 'Date': 1583003148}, {'City': 'broome', 'Lat': 42.25, 'Lng': -75.83, 'Max Temp': 24.01, 'Humidity': 52, 'Cloudiness': 40, 'Wind Speed': 10.29, 'Country': 'US', 'Date': 1583003148}, {'City': 'pisco', 'Lat': -13.7, 'Lng': -76.22, 'Max Temp': 75.99, 'Humidity': 30, 'Cloudiness': 20, 'Wind Speed': 9.17, 'Country': 'PE', 'Date': 1583003148}, {'City': 'mayumba', 'Lat': -3.43, 'Lng': 10.66, 'Max Temp': 81.01, 'Humidity': 84, 'Cloudiness': 100, 'Wind Speed': 16.26, 'Country': 'GA', 'Date': 1583003149}, {'City': 'sikeston', 'Lat': 36.88, 'Lng': -89.59, 'Max Temp': 46.99, 'Humidity': 52, 'Cloudiness': 1, 'Wind Speed': 4.7, 'Country': 'US', 'Date': 1583003149}, {'City': 'praia', 'Lat': 14.92, 'Lng': -23.51, 'Max Temp': 80.6, 'Humidity': 42, 'Cloudiness': 0, 'Wind Speed': 24.16, 'Country': 'CV', 'Date': 1583003149}, {'City': 'bengkulu', 'Lat': -3.8, 'Lng': 102.27, 'Max Temp': 75.07, 'Humidity': 93, 'Cloudiness': 100, 'Wind Speed': 3.87, 'Country': 'ID', 'Date': 1583003149}, {'City': 'mayna', 'Lat': 54.11, 'Lng': 47.62, 'Max Temp': 28.04, 'Humidity': 91, 'Cloudiness': 100, 'Wind Speed': 8.84, 'Country': 'RU', 'Date': 1583003149}, {'City': 'alofi', 'Lat': -19.06, 'Lng': -169.92, 'Max Temp': 75.2, 'Humidity': 100, 'Cloudiness': 1, 'Wind Speed': 3.36, 'Country': 'NU', 'Date': 1583003149}, {'City': 'rocha', 'Lat': -34.48, 'Lng': -54.33, 'Max Temp': 82.54, 'Humidity': 40, 'Cloudiness': 14, 'Wind Speed': 12.08, 'Country': 'UY', 'Date': 1583002944}, {'City': 'biak', 'Lat': -0.91, 'Lng': 122.88, 'Max Temp': 83.41, 'Humidity': 75, 'Cloudiness': 100, 'Wind Speed': 8.7, 'Country': 'ID', 'Date': 1583003149}, {'City': 'barrow', 'Lat': 71.29, 'Lng': -156.79, 'Max Temp': -5.8, 'Humidity': 83, 'Cloudiness': 90, 'Wind Speed': 12.75, 'Country': 'US', 'Date': 1583002926}, {'City': 'srednekolymsk', 'Lat': 67.45, 'Lng': 153.68, 'Max Temp': 0.05, 'Humidity': 83, 'Cloudiness': 0, 'Wind Speed': 10.09, 'Country': 'RU', 'Date': 1583002994}, {'City': 'dikson', 'Lat': 73.51, 'Lng': 80.55, 'Max Temp': 7.77, 'Humidity': 94, 'Cloudiness': 100, 'Wind Speed': 17.49, 'Country': 'RU', 'Date': 1583003149}, {'City': 'bambous virieux', 'Lat': -20.34, 'Lng': 57.76, 'Max Temp': 78.01, 'Humidity': 100, 'Cloudiness': 40, 'Wind Speed': 1.12, 'Country': 'MU', 'Date': 1583003141}, {'City': 'klaebu', 'Lat': 63.3, 'Lng': 10.48, 'Max Temp': 28.4, 'Humidity': 68, 'Cloudiness': 52, 'Wind Speed': 12.75, 'Country': 'NO', 'Date': 1583003150}, {'City': 'beyneu', 'Lat': 45.32, 'Lng': 55.2, 'Max Temp': 43.12, 'Humidity': 68, 'Cloudiness': 62, 'Wind Speed': 7.85, 'Country': 'KZ', 'Date': 1583003150}, {'City': 'tuatapere', 'Lat': -46.13, 'Lng': 167.68, 'Max Temp': 48.99, 'Humidity': 87, 'Cloudiness': 68, 'Wind Speed': 1.99, 'Country': 'NZ', 'Date': 1583003013}, {'City': 'malanje', 'Lat': -9.54, 'Lng': 16.34, 'Max Temp': 66.87, 'Humidity': 92, 'Cloudiness': 100, 'Wind Speed': 3.11, 'Country': 'AO', 'Date': 1583003150}, {'City': 'coihaique', 'Lat': -45.58, 'Lng': -72.07, 'Max Temp': 75.2, 'Humidity': 44, 'Cloudiness': 20, 'Wind Speed': 8.05, 'Country': 'CL', 'Date': 1583003150}, {'City': 'galesong', 'Lat': -5.32, 'Lng': 119.37, 'Max Temp': 77, 'Humidity': 94, 'Cloudiness': 20, 'Wind Speed': 1.12, 'Country': 'ID', 'Date': 1583003150}, {'City': 'jalalpur', 'Lat': 32.64, 'Lng': 74.22, 'Max Temp': 60.8, 'Humidity': 72, 'Cloudiness': 40, 'Wind Speed': 7.27, 'Country': 'PK', 'Date': 1583003150}, {'City': 'peniche', 'Lat': 39.36, 'Lng': -9.38, 'Max Temp': 60.01, 'Humidity': 72, 'Cloudiness': 75, 'Wind Speed': 9.17, 'Country': 'PT', 'Date': 1583003150}, {'City': 'kaitangata', 'Lat': -46.28, 'Lng': 169.85, 'Max Temp': 53.33, 'Humidity': 74, 'Cloudiness': 36, 'Wind Speed': 11.88, 'Country': 'NZ', 'Date': 1583003003}, {'City': 'jadu', 'Lat': 31.95, 'Lng': 12.03, 'Max Temp': 66.11, 'Humidity': 25, 'Cloudiness': 0, 'Wind Speed': 6.17, 'Country': 'LY', 'Date': 1583003151}, {'City': 'thompson', 'Lat': 55.74, 'Lng': -97.86, 'Max Temp': 24.8, 'Humidity': 85, 'Cloudiness': 90, 'Wind Speed': 3.36, 'Country': 'CA', 'Date': 1583003151}, {'City': 'kachug', 'Lat': 53.96, 'Lng': 105.88, 'Max Temp': 6.08, 'Humidity': 93, 'Cloudiness': 97, 'Wind Speed': 1.5, 'Country': 'RU', 'Date': 1583003151}, {'City': 'yabelo', 'Lat': 4.88, 'Lng': 38.08, 'Max Temp': 78.75, 'Humidity': 36, 'Cloudiness': 55, 'Wind Speed': 7.18, 'Country': 'ET', 'Date': 1583003151}, {'City': 'inhambane', 'Lat': -23.86, 'Lng': 35.38, 'Max Temp': 76.01, 'Humidity': 72, 'Cloudiness': 52, 'Wind Speed': 21.81, 'Country': 'MZ', 'Date': 1583002970}, {'City': 'tasiilaq', 'Lat': 65.61, 'Lng': -37.64, 'Max Temp': 19.4, 'Humidity': 67, 'Cloudiness': 20, 'Wind Speed': 8.05, 'Country': 'GL', 'Date': 1583002955}, {'City': 'olafsvik', 'Lat': 64.89, 'Lng': -23.71, 'Max Temp': 30.24, 'Humidity': 93, 'Cloudiness': 100, 'Wind Speed': 13.8, 'Country': 'IS', 'Date': 1583003151}, {'City': 'hasaki', 'Lat': 35.73, 'Lng': 140.83, 'Max Temp': 46.4, 'Humidity': 93, 'Cloudiness': 75, 'Wind Speed': 6.93, 'Country': 'JP', 'Date': 1583003151}, {'City': 'nianzishan', 'Lat': 47.52, 'Lng': 122.88, 'Max Temp': 8.11, 'Humidity': 93, 'Cloudiness': 28, 'Wind Speed': 3.29, 'Country': 'CN', 'Date': 1583003106}, {'City': 'beaverlodge', 'Lat': 55.22, 'Lng': -119.44, 'Max Temp': 19.4, 'Humidity': 85, 'Cloudiness': 90, 'Wind Speed': 23.04, 'Country': 'CA', 'Date': 1583003151}, {'City': 'dubai', 'Lat': 25.26, 'Lng': 55.3, 'Max Temp': 71.6, 'Humidity': 78, 'Cloudiness': 0, 'Wind Speed': 2.24, 'Country': 'AE', 'Date': 1583002923}, {'City': 'port elizabeth', 'Lat': -33.92, 'Lng': 25.57, 'Max Temp': 66.2, 'Humidity': 77, 'Cloudiness': 27, 'Wind Speed': 16.11, 'Country': 'ZA', 'Date': 1583002970}, {'City': 'tezu', 'Lat': 27.92, 'Lng': 96.17, 'Max Temp': 61.54, 'Humidity': 54, 'Cloudiness': 0, 'Wind Speed': 4.07, 'Country': 'IN', 'Date': 1583003152}, {'City': 'batagay', 'Lat': 67.63, 'Lng': 134.63, 'Max Temp': -6.77, 'Humidity': 74, 'Cloudiness': 0, 'Wind Speed': 2.53, 'Country': 'RU', 'Date': 1583003152}, {'City': 'san rafael', 'Lat': -34.62, 'Lng': -68.33, 'Max Temp': 92.55, 'Humidity': 13, 'Cloudiness': 0, 'Wind Speed': 19.69, 'Country': 'AR', 'Date': 1583003152}, {'City': 'pafos', 'Lat': 34.77, 'Lng': 32.42, 'Max Temp': 51.8, 'Humidity': 71, 'Cloudiness': 75, 'Wind Speed': 16.11, 'Country': 'CY', 'Date': 1583003152}, {'City': 'faanui', 'Lat': -16.48, 'Lng': -151.75, 'Max Temp': 82, 'Humidity': 78, 'Cloudiness': 100, 'Wind Speed': 13.94, 'Country': 'PF', 'Date': 1583002975}, {'City': 'dingle', 'Lat': 11, 'Lng': 122.67, 'Max Temp': 72.54, 'Humidity': 86, 'Cloudiness': 57, 'Wind Speed': 10.49, 'Country': 'PH', 'Date': 1583002968}, {'City': 'beringovskiy', 'Lat': 63.05, 'Lng': 179.32, 'Max Temp': -7.56, 'Humidity': 83, 'Cloudiness': 0, 'Wind Speed': 20.07, 'Country': 'RU', 'Date': 1583003152}, {'City': 'saint-augustin', 'Lat': 51.23, 'Lng': -58.65, 'Max Temp': 24.96, 'Humidity': 87, 'Cloudiness': 100, 'Wind Speed': 12.06, 'Country': 'CA', 'Date': 1583003152}, {'City': 'mildura', 'Lat': -34.2, 'Lng': 142.15, 'Max Temp': 64.4, 'Humidity': 52, 'Cloudiness': 73, 'Wind Speed': 4.7, 'Country': 'AU', 'Date': 1583003021}, {'City': 'arkhangelsk', 'Lat': 64.54, 'Lng': 40.54, 'Max Temp': 21.2, 'Humidity': 92, 'Cloudiness': 90, 'Wind Speed': 6.71, 'Country': 'RU', 'Date': 1583003153}, {'City': 'lidkoping', 'Lat': 58.51, 'Lng': 13.16, 'Max Temp': 34, 'Humidity': 100, 'Cloudiness': 100, 'Wind Speed': 14.99, 'Country': 'SE', 'Date': 1583003153}, {'City': 'houston', 'Lat': 29.76, 'Lng': -95.36, 'Max Temp': 73.99, 'Humidity': 35, 'Cloudiness': 1, 'Wind Speed': 9.17, 'Country': 'US', 'Date': 1583003043}, {'City': 'mahebourg', 'Lat': -20.41, 'Lng': 57.7, 'Max Temp': 78.01, 'Humidity': 100, 'Cloudiness': 40, 'Wind Speed': 1.12, 'Country': 'MU', 'Date': 1583002930}, {'City': 'port alfred', 'Lat': -33.59, 'Lng': 26.89, 'Max Temp': 66, 'Humidity': 89, 'Cloudiness': 68, 'Wind Speed': 4, 'Country': 'ZA', 'Date': 1583002970}, {'City': 'asau', 'Lat': 46.43, 'Lng': 26.4, 'Max Temp': 41, 'Humidity': 56, 'Cloudiness': 23, 'Wind Speed': 12.75, 'Country': 'RO', 'Date': 1583003153}, {'City': 'pevek', 'Lat': 69.7, 'Lng': 170.31, 'Max Temp': 5.45, 'Humidity': 96, 'Cloudiness': 100, 'Wind Speed': 5.39, 'Country': 'RU', 'Date': 1583003153}, {'City': 'lowicz', 'Lat': 52.11, 'Lng': 19.95, 'Max Temp': 44.01, 'Humidity': 65, 'Cloudiness': 100, 'Wind Speed': 9.17, 'Country': 'PL', 'Date': 1583003153}, {'City': 'westport', 'Lat': 41.14, 'Lng': -73.36, 'Max Temp': 37, 'Humidity': 29, 'Cloudiness': 75, 'Wind Speed': 12.75, 'Country': 'US', 'Date': 1583003153}, {'City': 'abu zabad', 'Lat': 12.35, 'Lng': 29.25, 'Max Temp': 75.69, 'Humidity': 10, 'Cloudiness': 0, 'Wind Speed': 9.86, 'Country': 'SD', 'Date': 1583003153}, {'City': 'atar', 'Lat': 20.52, 'Lng': -13.05, 'Max Temp': 88.92, 'Humidity': 4, 'Cloudiness': 0, 'Wind Speed': 11.41, 'Country': 'MR', 'Date': 1583003153}, {'City': 'shwebo', 'Lat': 22.57, 'Lng': 95.7, 'Max Temp': 70.9, 'Humidity': 41, 'Cloudiness': 0, 'Wind Speed': 2.82, 'Country': 'MM', 'Date': 1583003154}, {'City': 'zyryanka', 'Lat': 65.75, 'Lng': 150.85, 'Max Temp': 1.27, 'Humidity': 80, 'Cloudiness': 0, 'Wind Speed': 12.59, 'Country': 'RU', 'Date': 1583003154}, {'City': 'hamilton', 'Lat': 39.18, 'Lng': -84.53, 'Max Temp': 36, 'Humidity': 48, 'Cloudiness': 1, 'Wind Speed': 8.05, 'Country': 'US', 'Date': 1583002930}, {'City': 'husavik', 'Lat': 66.04, 'Lng': -17.34, 'Max Temp': 35.6, 'Humidity': 69, 'Cloudiness': 75, 'Wind Speed': 26.4, 'Country': 'IS', 'Date': 1583003154}, {'City': 'tiksi', 'Lat': 71.69, 'Lng': 128.87, 'Max Temp': -6.12, 'Humidity': 88, 'Cloudiness': 0, 'Wind Speed': 5.03, 'Country': 'RU', 'Date': 1583002954}, {'City': 'malanville', 'Lat': 11.87, 'Lng': 3.39, 'Max Temp': 90.64, 'Humidity': 12, 'Cloudiness': 35, 'Wind Speed': 6.49, 'Country': 'BJ', 'Date': 1583003154}, {'City': 'airai', 'Lat': -8.93, 'Lng': 125.41, 'Max Temp': 68.45, 'Humidity': 87, 'Cloudiness': 100, 'Wind Speed': 5.39, 'Country': 'TL', 'Date': 1583003154}, {'City': 'mattru', 'Lat': 7.62, 'Lng': -11.83, 'Max Temp': 89.2, 'Humidity': 52, 'Cloudiness': 40, 'Wind Speed': 10.47, 'Country': 'SL', 'Date': 1583003154}, {'City': 'geraldton', 'Lat': -28.77, 'Lng': 114.6, 'Max Temp': 69.8, 'Humidity': 88, 'Cloudiness': 75, 'Wind Speed': 12.75, 'Country': 'AU', 'Date': 1583002989}, {'City': 'buraydah', 'Lat': 26.33, 'Lng': 43.98, 'Max Temp': 75.2, 'Humidity': 31, 'Cloudiness': 40, 'Wind Speed': 14.99, 'Country': 'SA', 'Date': 1583002993}, {'City': 'ulladulla', 'Lat': -35.35, 'Lng': 150.47, 'Max Temp': 62.6, 'Humidity': 100, 'Cloudiness': 29, 'Wind Speed': 3.98, 'Country': 'AU', 'Date': 1583003155}, {'City': 'tamandare', 'Lat': -8.76, 'Lng': -35.1, 'Max Temp': 82.72, 'Humidity': 74, 'Cloudiness': 0, 'Wind Speed': 13.96, 'Country': 'BR', 'Date': 1583003155}, {'City': 'aklavik', 'Lat': 68.22, 'Lng': -135.01, 'Max Temp': -16.6, 'Humidity': 74, 'Cloudiness': 75, 'Wind Speed': 3.36, 'Country': 'CA', 'Date': 1583003155}, {'City': 'bilibino', 'Lat': 68.05, 'Lng': 166.44, 'Max Temp': -7.71, 'Humidity': 100, 'Cloudiness': 100, 'Wind Speed': 2.1, 'Country': 'RU', 'Date': 1583003155}, {'City': 'saint-quentin', 'Lat': 49.83, 'Lng': 3.33, 'Max Temp': 42.8, 'Humidity': 81, 'Cloudiness': 94, 'Wind Speed': 20.8, 'Country': 'FR', 'Date': 1583003155}, {'City': 'kodinsk', 'Lat': 58.69, 'Lng': 99.18, 'Max Temp': 15.35, 'Humidity': 95, 'Cloudiness': 100, 'Wind Speed': 7.09, 'Country': 'RU', 'Date': 1583003155}, {'City': 'sur', 'Lat': 22.57, 'Lng': 59.53, 'Max Temp': 68.76, 'Humidity': 69, 'Cloudiness': 0, 'Wind Speed': 3.83, 'Country': 'OM', 'Date': 1583003155}, {'City': 'saskylakh', 'Lat': 71.92, 'Lng': 114.08, 'Max Temp': -4.23, 'Humidity': 86, 'Cloudiness': 100, 'Wind Speed': 2.3, 'Country': 'RU', 'Date': 1583003143}, {'City': 'marawi', 'Lat': 8, 'Lng': 124.29, 'Max Temp': 73, 'Humidity': 89, 'Cloudiness': 75, 'Wind Speed': 7, 'Country': 'PH', 'Date': 1583003155}, {'City': 'chingola', 'Lat': -12.53, 'Lng': 27.88, 'Max Temp': 66.2, 'Humidity': 96, 'Cloudiness': 100, 'Wind Speed': 3.44, 'Country': 'ZM', 'Date': 1583003156}, {'City': 'carnarvon', 'Lat': -24.87, 'Lng': 113.63, 'Max Temp': 75.2, 'Humidity': 83, 'Cloudiness': 0, 'Wind Speed': 17.22, 'Country': 'AU', 'Date': 1583003156}, {'City': 'olga', 'Lat': 43.74, 'Lng': 135.29, 'Max Temp': 27.21, 'Humidity': 90, 'Cloudiness': 100, 'Wind Speed': 21.32, 'Country': 'RU', 'Date': 1583003156}, {'City': 'arraial do cabo', 'Lat': -22.97, 'Lng': -42.03, 'Max Temp': 77, 'Humidity': 88, 'Cloudiness': 75, 'Wind Speed': 9.17, 'Country': 'BR', 'Date': 1583003156}, {'City': 'vakhrushi', 'Lat': 58.68, 'Lng': 50.03, 'Max Temp': 27.82, 'Humidity': 91, 'Cloudiness': 98, 'Wind Speed': 8.81, 'Country': 'RU', 'Date': 1583003156}, {'City': 'ixtapa', 'Lat': 20.7, 'Lng': -105.2, 'Max Temp': 82.4, 'Humidity': 54, 'Cloudiness': 5, 'Wind Speed': 5.82, 'Country': 'MX', 'Date': 1583003156}, {'City': 'kenai', 'Lat': 60.55, 'Lng': -151.26, 'Max Temp': 8.6, 'Humidity': 71, 'Cloudiness': 1, 'Wind Speed': 9.17, 'Country': 'US', 'Date': 1583003156}, {'City': 'rio gallegos', 'Lat': -51.62, 'Lng': -69.22, 'Max Temp': 77, 'Humidity': 25, 'Cloudiness': 100, 'Wind Speed': 25.28, 'Country': 'AR', 'Date': 1583003156}, {'City': 'chuy', 'Lat': -33.7, 'Lng': -53.46, 'Max Temp': 83.35, 'Humidity': 46, 'Cloudiness': 0, 'Wind Speed': 12.33, 'Country': 'UY', 'Date': 1583003156}, {'City': 'gasa', 'Lat': 31.5, 'Lng': 34.47, 'Max Temp': 59, 'Humidity': 77, 'Cloudiness': 75, 'Wind Speed': 12.75, 'Country': 'PS', 'Date': 1583003156}, {'City': 'vieux-habitants', 'Lat': 16.06, 'Lng': -61.77, 'Max Temp': 82.4, 'Humidity': 65, 'Cloudiness': 90, 'Wind Speed': 11.41, 'Country': 'GP', 'Date': 1583003156}, {'City': 'richards bay', 'Lat': -28.78, 'Lng': 32.04, 'Max Temp': 72.82, 'Humidity': 62, 'Cloudiness': 69, 'Wind Speed': 10.22, 'Country': 'ZA', 'Date': 1583002949}, {'City': 'mar del plata', 'Lat': -38, 'Lng': -57.56, 'Max Temp': 77, 'Humidity': 69, 'Cloudiness': 0, 'Wind Speed': 9.17, 'Country': 'AR', 'Date': 1583003157}, {'City': 'kaeo', 'Lat': -35.1, 'Lng': 173.78, 'Max Temp': 64, 'Humidity': 100, 'Cloudiness': 71, 'Wind Speed': 8.75, 'Country': 'NZ', 'Date': 1583003157}, {'City': 'souillac', 'Lat': -20.52, 'Lng': 57.52, 'Max Temp': 78.01, 'Humidity': 100, 'Cloudiness': 40, 'Wind Speed': 1.12, 'Country': 'MU', 'Date': 1583003157}, {'City': 'uberaba', 'Lat': -19.75, 'Lng': -47.93, 'Max Temp': 78.8, 'Humidity': 74, 'Cloudiness': 75, 'Wind Speed': 18.34, 'Country': 'BR', 'Date': 1583003157}, {'City': 'hami', 'Lat': 42.8, 'Lng': 93.45, 'Max Temp': 32.59, 'Humidity': 42, 'Cloudiness': 0, 'Wind Speed': 2.91, 'Country': 'CN', 'Date': 1583003157}, {'City': 'grand gaube', 'Lat': -20.01, 'Lng': 57.66, 'Max Temp': 78.01, 'Humidity': 100, 'Cloudiness': 40, 'Wind Speed': 1.12, 'Country': 'MU', 'Date': 1583003157}, {'City': 'mosquera', 'Lat': 4.71, 'Lng': -74.23, 'Max Temp': 68, 'Humidity': 52, 'Cloudiness': 40, 'Wind Speed': 12.75, 'Country': 'CO', 'Date': 1583003157}, {'City': 'sitka', 'Lat': 57.05, 'Lng': -135.33, 'Max Temp': 35.6, 'Humidity': 81, 'Cloudiness': 90, 'Wind Speed': 5.82, 'Country': 'US', 'Date': 1583003157}, {'City': 'roma', 'Lat': 43.21, 'Lng': -75.46, 'Max Temp': 21.99, 'Humidity': 57, 'Cloudiness': 90, 'Wind Speed': 14.99, 'Country': 'US', 'Date': 1583003047}, {'City': 'yanam', 'Lat': 16.73, 'Lng': 82.22, 'Max Temp': 72.12, 'Humidity': 80, 'Cloudiness': 0, 'Wind Speed': 2.37, 'Country': 'IN', 'Date': 1583003157}, {'City': 'cayenne', 'Lat': 4.93, 'Lng': -52.33, 'Max Temp': 84.2, 'Humidity': 66, 'Cloudiness': 83, 'Wind Speed': 10.29, 'Country': 'GF', 'Date': 1583003157}, {'City': 'chimbote', 'Lat': -9.09, 'Lng': -78.58, 'Max Temp': 84.15, 'Humidity': 55, 'Cloudiness': 39, 'Wind Speed': 12.97, 'Country': 'PE', 'Date': 1583003158}, {'City': 'asfi', 'Lat': 32.3, 'Lng': -9.24, 'Max Temp': 59.7, 'Humidity': 77, 'Cloudiness': 0, 'Wind Speed': 11.36, 'Country': 'MA', 'Date': 1583003158}, {'City': 'puri', 'Lat': 19.8, 'Lng': 85.85, 'Max Temp': 71.6, 'Humidity': 88, 'Cloudiness': 0, 'Wind Speed': 4.36, 'Country': 'IN', 'Date': 1583003158}, {'City': 'salalah', 'Lat': 17.02, 'Lng': 54.09, 'Max Temp': 77, 'Humidity': 61, 'Cloudiness': 0, 'Wind Speed': 4.7, 'Country': 'OM', 'Date': 1583003158}, {'City': 'cherskiy', 'Lat': 68.75, 'Lng': 161.3, 'Max Temp': -6.9, 'Humidity': 99, 'Cloudiness': 97, 'Wind Speed': 4, 'Country': 'RU', 'Date': 1583002976}, {'City': 'haibara', 'Lat': 34.53, 'Lng': 135.95, 'Max Temp': 48.2, 'Humidity': 87, 'Cloudiness': 90, 'Wind Speed': 3.36, 'Country': 'JP', 'Date': 1583003158}, {'City': 'moquegua', 'Lat': -17.2, 'Lng': -70.94, 'Max Temp': 80.6, 'Humidity': 65, 'Cloudiness': 89, 'Wind Speed': 9.17, 'Country': 'PE', 'Date': 1583003158}, {'City': 'krasnoborsk', 'Lat': 61.56, 'Lng': 45.93, 'Max Temp': 19.72, 'Humidity': 87, 'Cloudiness': 100, 'Wind Speed': 7.4, 'Country': 'RU', 'Date': 1583003158}, {'City': 'kavieng', 'Lat': -2.57, 'Lng': 150.8, 'Max Temp': 84.11, 'Humidity': 74, 'Cloudiness': 40, 'Wind Speed': 2.24, 'Country': 'PG', 'Date': 1583003158}, {'City': 'noumea', 'Lat': -22.28, 'Lng': 166.46, 'Max Temp': 84.2, 'Humidity': 62, 'Cloudiness': 100, 'Wind Speed': 5.82, 'Country': 'NC', 'Date': 1583003159}, {'City': 'bambanglipuro', 'Lat': -7.95, 'Lng': 110.28, 'Max Temp': 76.82, 'Humidity': 90, 'Cloudiness': 100, 'Wind Speed': 3.47, 'Country': 'ID', 'Date': 1583003159}, {'City': 'severobaykalsk', 'Lat': 55.65, 'Lng': 109.32, 'Max Temp': 12.27, 'Humidity': 93, 'Cloudiness': 100, 'Wind Speed': 5.32, 'Country': 'RU', 'Date': 1583003159}, {'City': 'georgetown', 'Lat': 5.41, 'Lng': 100.34, 'Max Temp': 82.4, 'Humidity': 74, 'Cloudiness': 20, 'Wind Speed': 3.36, 'Country': 'MY', 'Date': 1583003159}, {'City': 'black river', 'Lat': 18.03, 'Lng': -77.85, 'Max Temp': 75.99, 'Humidity': 78, 'Cloudiness': 90, 'Wind Speed': 16.11, 'Country': 'JM', 'Date': 1583003159}, {'City': 'katsuura', 'Lat': 35.13, 'Lng': 140.3, 'Max Temp': 51.8, 'Humidity': 87, 'Cloudiness': 75, 'Wind Speed': 13.87, 'Country': 'JP', 'Date': 1583003156}, {'City': 'constitucion', 'Lat': -35.33, 'Lng': -72.42, 'Max Temp': 74.01, 'Humidity': 46, 'Cloudiness': 0, 'Wind Speed': 5.73, 'Country': 'CL', 'Date': 1583002996}, {'City': 'bahjoi', 'Lat': 28.4, 'Lng': 78.62, 'Max Temp': 62.92, 'Humidity': 86, 'Cloudiness': 99, 'Wind Speed': 6.51, 'Country': 'IN', 'Date': 1583003159}, {'City': 'ballina', 'Lat': -28.87, 'Lng': 153.57, 'Max Temp': 72, 'Humidity': 94, 'Cloudiness': 90, 'Wind Speed': 5.82, 'Country': 'AU', 'Date': 1583003159}, {'City': 'nhulunbuy', 'Lat': -12.23, 'Lng': 136.77, 'Max Temp': 80.6, 'Humidity': 88, 'Cloudiness': 74, 'Wind Speed': 3.51, 'Country': 'AU', 'Date': 1583003159}, {'City': 'omsukchan', 'Lat': 62.53, 'Lng': 155.8, 'Max Temp': -5.13, 'Humidity': 99, 'Cloudiness': 100, 'Wind Speed': 4.56, 'Country': 'RU', 'Date': 1583003159}, {'City': 'lakes entrance', 'Lat': -37.88, 'Lng': 147.98, 'Max Temp': 52, 'Humidity': 96, 'Cloudiness': 82, 'Wind Speed': 4.18, 'Country': 'AU', 'Date': 1583003160}, {'City': 'codrington', 'Lat': -38.27, 'Lng': 141.97, 'Max Temp': 59.74, 'Humidity': 85, 'Cloudiness': 100, 'Wind Speed': 8.23, 'Country': 'AU', 'Date': 1583003160}, {'City': 'svetlyy', 'Lat': 54.67, 'Lng': 20.13, 'Max Temp': 39.2, 'Humidity': 80, 'Cloudiness': 90, 'Wind Speed': 11.18, 'Country': 'RU', 'Date': 1583003096}, {'City': 'sangar', 'Lat': 63.92, 'Lng': 127.47, 'Max Temp': -8.03, 'Humidity': 84, 'Cloudiness': 0, 'Wind Speed': 3.33, 'Country': 'RU', 'Date': 1583003160}, {'City': 'vilhena', 'Lat': -12.74, 'Lng': -60.15, 'Max Temp': 80.6, 'Humidity': 78, 'Cloudiness': 75, 'Wind Speed': 3.36, 'Country': 'BR', 'Date': 1583003160}, {'City': 'the pas', 'Lat': 53.83, 'Lng': -101.25, 'Max Temp': 26.6, 'Humidity': 73, 'Cloudiness': 90, 'Wind Speed': 4.7, 'Country': 'CA', 'Date': 1583003160}, {'City': 'talnakh', 'Lat': 69.49, 'Lng': 88.4, 'Max Temp': -0.4, 'Humidity': 84, 'Cloudiness': 79, 'Wind Speed': 6.71, 'Country': 'RU', 'Date': 1583003160}, {'City': 'arlit', 'Lat': 18.74, 'Lng': 7.39, 'Max Temp': 83.21, 'Humidity': 7, 'Cloudiness': 0, 'Wind Speed': 10.09, 'Country': 'NE', 'Date': 1583003161}, {'City': 'nishihara', 'Lat': 26.18, 'Lng': 127.76, 'Max Temp': 71.6, 'Humidity': 88, 'Cloudiness': 20, 'Wind Speed': 12.75, 'Country': 'JP', 'Date': 1583003161}, {'City': 'provideniya', 'Lat': 64.38, 'Lng': -173.3, 'Max Temp': -8.81, 'Humidity': 81, 'Cloudiness': 0, 'Wind Speed': 9.69, 'Country': 'RU', 'Date': 1583003161}, {'City': 'khonsa', 'Lat': 27.02, 'Lng': 95.57, 'Max Temp': 57.02, 'Humidity': 84, 'Cloudiness': 50, 'Wind Speed': 4.43, 'Country': 'IN', 'Date': 1583003161}, {'City': 'hirara', 'Lat': 24.8, 'Lng': 125.28, 'Max Temp': 73.22, 'Humidity': 82, 'Cloudiness': 48, 'Wind Speed': 14.76, 'Country': 'JP', 'Date': 1583003161}, {'City': 'moscow', 'Lat': 55.75, 'Lng': 37.62, 'Max Temp': 32, 'Humidity': 92, 'Cloudiness': 74, 'Wind Speed': 4.47, 'Country': 'RU', 'Date': 1583003148}, {'City': 'chokurdakh', 'Lat': 70.63, 'Lng': 147.92, 'Max Temp': -3.89, 'Humidity': 87, 'Cloudiness': 51, 'Wind Speed': 7.67, 'Country': 'RU', 'Date': 1583003159}, {'City': 'odzaci', 'Lat': 45.51, 'Lng': 19.26, 'Max Temp': 48, 'Humidity': 52, 'Cloudiness': 100, 'Wind Speed': 12.75, 'Country': 'RS', 'Date': 1583003161}, {'City': 'yuzhou', 'Lat': 34.16, 'Lng': 113.46, 'Max Temp': 44.6, 'Humidity': 93, 'Cloudiness': 75, 'Wind Speed': 2.24, 'Country': 'CN', 'Date': 1583003161}, {'City': 'yarada', 'Lat': 17.65, 'Lng': 83.27, 'Max Temp': 75.2, 'Humidity': 78, 'Cloudiness': 20, 'Wind Speed': 2.24, 'Country': 'IN', 'Date': 1583003161}, {'City': 'ushtobe', 'Lat': 45.25, 'Lng': 77.98, 'Max Temp': 33.57, 'Humidity': 66, 'Cloudiness': 0, 'Wind Speed': 5.01, 'Country': 'KZ', 'Date': 1583003161}, {'City': 'saint anthony', 'Lat': 45.02, 'Lng': -93.22, 'Max Temp': 37.99, 'Humidity': 91, 'Cloudiness': 1, 'Wind Speed': 9.17, 'Country': 'US', 'Date': 1583003162}, {'City': 'iquitos', 'Lat': -3.75, 'Lng': -73.25, 'Max Temp': 42.8, 'Humidity': 100, 'Cloudiness': 75, 'Wind Speed': 5.82, 'Country': 'PE', 'Date': 1583002950}, {'City': 'butaritari', 'Lat': 3.07, 'Lng': 172.79, 'Max Temp': 84.31, 'Humidity': 80, 'Cloudiness': 98, 'Wind Speed': 19.22, 'Country': 'KI', 'Date': 1583002924}, {'City': 'xinzhou', 'Lat': 38.41, 'Lng': 112.73, 'Max Temp': 34.11, 'Humidity': 43, 'Cloudiness': 83, 'Wind Speed': 5.17, 'Country': 'CN', 'Date': 1583003162}, {'City': 'ostrovnoy', 'Lat': 68.05, 'Lng': 39.51, 'Max Temp': 23.5, 'Humidity': 94, 'Cloudiness': 100, 'Wind Speed': 18.34, 'Country': 'RU', 'Date': 1583003162}, {'City': 'bull savanna', 'Lat': 17.89, 'Lng': -77.59, 'Max Temp': 78.57, 'Humidity': 67, 'Cloudiness': 86, 'Wind Speed': 6.89, 'Country': 'JM', 'Date': 1583003162}, {'City': 'kanker', 'Lat': 20.27, 'Lng': 81.49, 'Max Temp': 71.06, 'Humidity': 35, 'Cloudiness': 0, 'Wind Speed': 5.68, 'Country': 'IN', 'Date': 1583003162}, {'City': 'bulri', 'Lat': 24.87, 'Lng': 68.33, 'Max Temp': 69.33, 'Humidity': 62, 'Cloudiness': 0, 'Wind Speed': 10.11, 'Country': 'PK', 'Date': 1583003162}, {'City': 'portland', 'Lat': 45.52, 'Lng': -122.68, 'Max Temp': 48, 'Humidity': 75, 'Cloudiness': 90, 'Wind Speed': 4.7, 'Country': 'US', 'Date': 1583003038}, {'City': 'carmelo', 'Lat': -33.99, 'Lng': -58.29, 'Max Temp': 93, 'Humidity': 38, 'Cloudiness': 11, 'Wind Speed': 6.93, 'Country': 'UY', 'Date': 1583003163}, {'City': 'kandrian', 'Lat': -6.22, 'Lng': 149.55, 'Max Temp': 74.84, 'Humidity': 93, 'Cloudiness': 59, 'Wind Speed': 3.36, 'Country': 'PG', 'Date': 1583003163}, {'City': 'turba', 'Lat': 59.08, 'Lng': 24.23, 'Max Temp': 36, 'Humidity': 96, 'Cloudiness': 90, 'Wind Speed': 11.41, 'Country': 'EE', 'Date': 1583003163}, {'City': 'khartoum', 'Lat': 15.55, 'Lng': 32.53, 'Max Temp': 82.4, 'Humidity': 10, 'Cloudiness': 0, 'Wind Speed': 10.29, 'Country': 'SD', 'Date': 1583003015}, {'City': 'kirakira', 'Lat': -10.45, 'Lng': 161.92, 'Max Temp': 77.83, 'Humidity': 80, 'Cloudiness': 4, 'Wind Speed': 3.49, 'Country': 'SB', 'Date': 1583002983}, {'City': 'eureka', 'Lat': 40.8, 'Lng': -124.16, 'Max Temp': 52, 'Humidity': 70, 'Cloudiness': 40, 'Wind Speed': 12.75, 'Country': 'US', 'Date': 1583003163}, {'City': 'kolomak', 'Lat': 49.84, 'Lng': 35.3, 'Max Temp': 35.46, 'Humidity': 72, 'Cloudiness': 11, 'Wind Speed': 4.12, 'Country': 'UA', 'Date': 1583003163}, {'City': 'guararapes', 'Lat': -21.26, 'Lng': -50.64, 'Max Temp': 80.58, 'Humidity': 70, 'Cloudiness': 71, 'Wind Speed': 5.46, 'Country': 'BR', 'Date': 1583003163}, {'City': 'kavaratti', 'Lat': 10.57, 'Lng': 72.64, 'Max Temp': 83.59, 'Humidity': 70, 'Cloudiness': 100, 'Wind Speed': 5.44, 'Country': 'IN', 'Date': 1583003164}, {'City': 'robertsport', 'Lat': 6.75, 'Lng': -11.37, 'Max Temp': 82.4, 'Humidity': 83, 'Cloudiness': 18, 'Wind Speed': 14, 'Country': 'LR', 'Date': 1583003164}, {'City': 'elmira', 'Lat': 42.09, 'Lng': -76.81, 'Max Temp': 24.01, 'Humidity': 57, 'Cloudiness': 75, 'Wind Speed': 17.22, 'Country': 'US', 'Date': 1583003164}, {'City': 'sabya', 'Lat': 17.15, 'Lng': 42.63, 'Max Temp': 82.4, 'Humidity': 69, 'Cloudiness': 0, 'Wind Speed': 8.05, 'Country': 'SA', 'Date': 1583003164}, {'City': 'necochea', 'Lat': -38.55, 'Lng': -58.74, 'Max Temp': 78.01, 'Humidity': 62, 'Cloudiness': 0, 'Wind Speed': 7, 'Country': 'AR', 'Date': 1583003164}, {'City': 'lorengau', 'Lat': -2.02, 'Lng': 147.27, 'Max Temp': 83.82, 'Humidity': 76, 'Cloudiness': 59, 'Wind Speed': 4.97, 'Country': 'PG', 'Date': 1583003004}, {'City': 'linxia', 'Lat': 35.6, 'Lng': 103.21, 'Max Temp': 26.15, 'Humidity': 69, 'Cloudiness': 92, 'Wind Speed': 2.95, 'Country': 'CN', 'Date': 1583003164}, {'City': 'krasnoselkup', 'Lat': 65.7, 'Lng': 82.47, 'Max Temp': -3.5, 'Humidity': 94, 'Cloudiness': 0, 'Wind Speed': 7.14, 'Country': 'RU', 'Date': 1583003164}, {'City': 'gat', 'Lat': 31.61, 'Lng': 34.76, 'Max Temp': 59, 'Humidity': 77, 'Cloudiness': 75, 'Wind Speed': 12.75, 'Country': 'IL', 'Date': 1583003100}, {'City': 'holme', 'Lat': 56.11, 'Lng': 10.17, 'Max Temp': 46.4, 'Humidity': 93, 'Cloudiness': 100, 'Wind Speed': 9.17, 'Country': 'DK', 'Date': 1583003165}, {'City': 'prince albert', 'Lat': 53.2, 'Lng': -105.77, 'Max Temp': 32, 'Humidity': 90, 'Cloudiness': 75, 'Wind Speed': 17.22, 'Country': 'CA', 'Date': 1583003165}, {'City': 'rundu', 'Lat': -17.93, 'Lng': 19.77, 'Max Temp': 69.8, 'Humidity': 94, 'Cloudiness': 99, 'Wind Speed': 4.7, 'Country': 'NA', 'Date': 1583003165}, {'City': 'olinda', 'Lat': -8.01, 'Lng': -34.86, 'Max Temp': 86, 'Humidity': 70, 'Cloudiness': 40, 'Wind Speed': 14.99, 'Country': 'BR', 'Date': 1583003165}, {'City': 'tandalti', 'Lat': 13.02, 'Lng': 31.87, 'Max Temp': 80.96, 'Humidity': 8, 'Cloudiness': 100, 'Wind Speed': 11.41, 'Country': 'SD', 'Date': 1583003165}, {'City': 'valparaiso', 'Lat': -33.04, 'Lng': -71.63, 'Max Temp': 62.6, 'Humidity': 100, 'Cloudiness': 90, 'Wind Speed': 9.17, 'Country': 'CL', 'Date': 1583003109}, {'City': 'pineville', 'Lat': 31.32, 'Lng': -92.43, 'Max Temp': 72, 'Humidity': 30, 'Cloudiness': 1, 'Wind Speed': 8.05, 'Country': 'US', 'Date': 1583003126}, {'City': 'yarim', 'Lat': 14.3, 'Lng': 44.38, 'Max Temp': 61.02, 'Humidity': 61, 'Cloudiness': 5, 'Wind Speed': 3.98, 'Country': 'YE', 'Date': 1583003165}, {'City': 'camacha', 'Lat': 33.08, 'Lng': -16.33, 'Max Temp': 68, 'Humidity': 77, 'Cloudiness': 20, 'Wind Speed': 13.87, 'Country': 'PT', 'Date': 1583003165}, {'City': 'choix', 'Lat': 26.71, 'Lng': -108.32, 'Max Temp': 82.2, 'Humidity': 17, 'Cloudiness': 45, 'Wind Speed': 0.67, 'Country': 'MX', 'Date': 1583003165}, {'City': 'balkhash', 'Lat': 46.84, 'Lng': 74.98, 'Max Temp': 23.09, 'Humidity': 74, 'Cloudiness': 0, 'Wind Speed': 13.98, 'Country': 'KZ', 'Date': 1583003166}, {'City': 'tandil', 'Lat': -37.32, 'Lng': -59.13, 'Max Temp': 91, 'Humidity': 36, 'Cloudiness': 0, 'Wind Speed': 1.99, 'Country': 'AR', 'Date': 1583002915}, {'City': 'fort nelson', 'Lat': 58.81, 'Lng': -122.7, 'Max Temp': 3.2, 'Humidity': 65, 'Cloudiness': 75, 'Wind Speed': 4.7, 'Country': 'CA', 'Date': 1583003166}, {'City': 'deputatskiy', 'Lat': 69.3, 'Lng': 139.9, 'Max Temp': -0.96, 'Humidity': 57, 'Cloudiness': 6, 'Wind Speed': 3.29, 'Country': 'RU', 'Date': 1583002937}, {'City': 'gimli', 'Lat': 50.63, 'Lng': -96.99, 'Max Temp': 30, 'Humidity': 98, 'Cloudiness': 85, 'Wind Speed': 8.01, 'Country': 'CA', 'Date': 1583003166}, {'City': 'khimki', 'Lat': 55.9, 'Lng': 37.44, 'Max Temp': 32, 'Humidity': 86, 'Cloudiness': 40, 'Wind Speed': 11.18, 'Country': 'RU', 'Date': 1583003166}, {'City': 'ilulissat', 'Lat': 69.22, 'Lng': -51.1, 'Max Temp': -5.8, 'Humidity': 39, 'Cloudiness': 20, 'Wind Speed': 1.97, 'Country': 'GL', 'Date': 1583003004}, {'City': 'vestmannaeyjar', 'Lat': 63.44, 'Lng': -20.27, 'Max Temp': 39.2, 'Humidity': 80, 'Cloudiness': 40, 'Wind Speed': 33.33, 'Country': 'IS', 'Date': 1583003001}, {'City': 'bonaventure', 'Lat': 48.05, 'Lng': -65.49, 'Max Temp': 27, 'Humidity': 42, 'Cloudiness': 75, 'Wind Speed': 9.17, 'Country': 'CA', 'Date': 1583003166}, {'City': 'zalantun', 'Lat': 48, 'Lng': 122.72, 'Max Temp': 7.77, 'Humidity': 95, 'Cloudiness': 85, 'Wind Speed': 3.67, 'Country': 'CN', 'Date': 1583003166}, {'City': 'auki', 'Lat': -8.77, 'Lng': 160.7, 'Max Temp': 83.95, 'Humidity': 75, 'Cloudiness': 68, 'Wind Speed': 7.78, 'Country': 'SB', 'Date': 1583003166}, {'City': 'rawson', 'Lat': -43.3, 'Lng': -65.1, 'Max Temp': 69.04, 'Humidity': 52, 'Cloudiness': 0, 'Wind Speed': 10.16, 'Country': 'AR', 'Date': 1583002969}, {'City': 'yining', 'Lat': 29.04, 'Lng': 114.56, 'Max Temp': 51.42, 'Humidity': 96, 'Cloudiness': 100, 'Wind Speed': 2.37, 'Country': 'CN', 'Date': 1583003167}, {'City': 'margate', 'Lat': 51.38, 'Lng': 1.39, 'Max Temp': 43, 'Humidity': 64, 'Cloudiness': 63, 'Wind Speed': 18.34, 'Country': 'GB', 'Date': 1583003167}, {'City': 'paamiut', 'Lat': 61.99, 'Lng': -49.67, 'Max Temp': 5.65, 'Humidity': 59, 'Cloudiness': 0, 'Wind Speed': 15.03, 'Country': 'GL', 'Date': 1583002984}, {'City': 'keti bandar', 'Lat': 24.14, 'Lng': 67.45, 'Max Temp': 71.64, 'Humidity': 83, 'Cloudiness': 0, 'Wind Speed': 9.64, 'Country': 'PK', 'Date': 1583003167}, {'City': 'la vega', 'Lat': 19.22, 'Lng': -70.53, 'Max Temp': 89.01, 'Humidity': 51, 'Cloudiness': 75, 'Wind Speed': 4.7, 'Country': 'DO', 'Date': 1583003167}, {'City': 'nome', 'Lat': 64.5, 'Lng': -165.41, 'Max Temp': -11, 'Humidity': 91, 'Cloudiness': 1, 'Wind Speed': 3.44, 'Country': 'US', 'Date': 1583002945}, {'City': 'yasnyy', 'Lat': 51.03, 'Lng': 59.87, 'Max Temp': 21.61, 'Humidity': 91, 'Cloudiness': 39, 'Wind Speed': 10.76, 'Country': 'RU', 'Date': 1583003167}, {'City': 'nyurba', 'Lat': 63.28, 'Lng': 118.33, 'Max Temp': -1.53, 'Humidity': 99, 'Cloudiness': 94, 'Wind Speed': 2.35, 'Country': 'RU', 'Date': 1583003006}, {'City': 'vieques', 'Lat': 18.43, 'Lng': -65.83, 'Max Temp': 86, 'Humidity': 62, 'Cloudiness': 40, 'Wind Speed': 17.22, 'Country': 'PR', 'Date': 1583003167}, {'City': 'lata', 'Lat': 40.16, 'Lng': -8.33, 'Max Temp': 59, 'Humidity': 77, 'Cloudiness': 40, 'Wind Speed': 9.17, 'Country': 'PT', 'Date': 1583002983}, {'City': 'yerbogachen', 'Lat': 61.28, 'Lng': 108.01, 'Max Temp': 6.51, 'Humidity': 96, 'Cloudiness': 100, 'Wind Speed': 3.74, 'Country': 'RU', 'Date': 1583003168}, {'City': 'ipixuna', 'Lat': -1.76, 'Lng': -48.8, 'Max Temp': 82.4, 'Humidity': 78, 'Cloudiness': 75, 'Wind Speed': 4.7, 'Country': 'BR', 'Date': 1583003168}, {'City': 'sofia', 'Lat': 42.7, 'Lng': 23.32, 'Max Temp': 33.8, 'Humidity': 74, 'Cloudiness': 0, 'Wind Speed': 4.7, 'Country': 'BG', 'Date': 1583002951}, {'City': 'sobolevo', 'Lat': 54.43, 'Lng': 31.9, 'Max Temp': 29.97, 'Humidity': 86, 'Cloudiness': 32, 'Wind Speed': 8.84, 'Country': 'RU', 'Date': 1583003168}, {'City': 'morant bay', 'Lat': 17.88, 'Lng': -76.41, 'Max Temp': 80.01, 'Humidity': 88, 'Cloudiness': 75, 'Wind Speed': 10.29, 'Country': 'JM', 'Date': 1583002965}, {'City': 'bagli', 'Lat': 22.65, 'Lng': 76.35, 'Max Temp': 73.4, 'Humidity': 56, 'Cloudiness': 15, 'Wind Speed': 5.82, 'Country': 'IN', 'Date': 1583003168}, {'City': 'kasongo-lunda', 'Lat': -6.47, 'Lng': 16.82, 'Max Temp': 70.12, 'Humidity': 98, 'Cloudiness': 86, 'Wind Speed': 2.51, 'Country': 'CD', 'Date': 1583003168}, {'City': 'nyimba', 'Lat': -14.56, 'Lng': 30.81, 'Max Temp': 68.45, 'Humidity': 94, 'Cloudiness': 23, 'Wind Speed': 4.9, 'Country': 'ZM', 'Date': 1583003168}, {'City': 'kerman', 'Lat': 30.28, 'Lng': 57.08, 'Max Temp': 50, 'Humidity': 16, 'Cloudiness': 0, 'Wind Speed': 4.7, 'Country': 'IR', 'Date': 1583003168}, {'City': 'kupang', 'Lat': -10.17, 'Lng': 123.58, 'Max Temp': 84.63, 'Humidity': 78, 'Cloudiness': 100, 'Wind Speed': 21.03, 'Country': 'ID', 'Date': 1583003168}, {'City': 'aitape', 'Lat': -3.14, 'Lng': 142.35, 'Max Temp': 82.49, 'Humidity': 80, 'Cloudiness': 100, 'Wind Speed': 7.2, 'Country': 'PG', 'Date': 1583003169}, {'City': 'bemidji', 'Lat': 47.47, 'Lng': -94.88, 'Max Temp': 36, 'Humidity': 99, 'Cloudiness': 1, 'Wind Speed': 9.17, 'Country': 'US', 'Date': 1583003169}, {'City': 'praia da vitoria', 'Lat': 38.73, 'Lng': -27.07, 'Max Temp': 68, 'Humidity': 64, 'Cloudiness': 40, 'Wind Speed': 15.19, 'Country': 'PT', 'Date': 1583003169}, {'City': 'broumov', 'Lat': 50.59, 'Lng': 16.33, 'Max Temp': 46.4, 'Humidity': 73, 'Cloudiness': 100, 'Wind Speed': 21.92, 'Country': 'CZ', 'Date': 1583003169}, {'City': 'brigham city', 'Lat': 41.51, 'Lng': -112.02, 'Max Temp': 53.01, 'Humidity': 29, 'Cloudiness': 1, 'Wind Speed': 9.98, 'Country': 'US', 'Date': 1583002978}, {'City': 'banjar', 'Lat': -8.19, 'Lng': 114.97, 'Max Temp': 82.44, 'Humidity': 79, 'Cloudiness': 100, 'Wind Speed': 6.98, 'Country': 'ID', 'Date': 1583003169}, {'City': 'sayyan', 'Lat': 15.17, 'Lng': 44.32, 'Max Temp': 57.45, 'Humidity': 55, 'Cloudiness': 0, 'Wind Speed': 2.26, 'Country': 'YE', 'Date': 1583003169}, {'City': 'muswellbrook', 'Lat': -32.27, 'Lng': 150.9, 'Max Temp': 66, 'Humidity': 86, 'Cloudiness': 74, 'Wind Speed': 1.01, 'Country': 'AU', 'Date': 1583003169}, {'City': 'araouane', 'Lat': 18.9, 'Lng': -3.53, 'Max Temp': 81.82, 'Humidity': 4, 'Cloudiness': 0, 'Wind Speed': 6.67, 'Country': 'ML', 'Date': 1583003169}, {'City': 'harper', 'Lat': 4.38, 'Lng': -7.72, 'Max Temp': 80.42, 'Humidity': 87, 'Cloudiness': 85, 'Wind Speed': 6.35, 'Country': 'LR', 'Date': 1583003008}, {'City': 'plettenberg bay', 'Lat': -34.05, 'Lng': 23.37, 'Max Temp': 66.52, 'Humidity': 80, 'Cloudiness': 0, 'Wind Speed': 16.37, 'Country': 'ZA', 'Date': 1583003170}, {'City': 'nisia floresta', 'Lat': -6.09, 'Lng': -35.21, 'Max Temp': 89.6, 'Humidity': 59, 'Cloudiness': 40, 'Wind Speed': 18.34, 'Country': 'BR', 'Date': 1583003170}, {'City': 'muros', 'Lat': 42.78, 'Lng': -9.06, 'Max Temp': 55, 'Humidity': 81, 'Cloudiness': 75, 'Wind Speed': 6.93, 'Country': 'ES', 'Date': 1583003170}, {'City': 'katherine', 'Lat': -14.47, 'Lng': 132.27, 'Max Temp': 78.8, 'Humidity': 88, 'Cloudiness': 90, 'Wind Speed': 5.82, 'Country': 'AU', 'Date': 1583003170}, {'City': 'tofield', 'Lat': 53.37, 'Lng': -112.67, 'Max Temp': 33.01, 'Humidity': 94, 'Cloudiness': 90, 'Wind Speed': 14.99, 'Country': 'CA', 'Date': 1583003170}, {'City': 'buba', 'Lat': 11.58, 'Lng': -15, 'Max Temp': 91.8, 'Humidity': 33, 'Cloudiness': 6, 'Wind Speed': 13.11, 'Country': 'GW', 'Date': 1583003170}, {'City': 'terney', 'Lat': 45.05, 'Lng': 136.61, 'Max Temp': 17.56, 'Humidity': 91, 'Cloudiness': 100, 'Wind Speed': 4.29, 'Country': 'RU', 'Date': 1583003170}, {'City': 'pecos', 'Lat': 31.42, 'Lng': -103.49, 'Max Temp': 66.2, 'Humidity': 15, 'Cloudiness': 1, 'Wind Speed': 3.36, 'Country': 'US', 'Date': 1583003170}, {'City': 'bom jesus da lapa', 'Lat': -13.26, 'Lng': -43.42, 'Max Temp': 87.08, 'Humidity': 63, 'Cloudiness': 90, 'Wind Speed': 1.43, 'Country': 'BR', 'Date': 1583002972}, {'City': 'mwanza', 'Lat': -2.52, 'Lng': 32.9, 'Max Temp': 77, 'Humidity': 65, 'Cloudiness': 20, 'Wind Speed': 5.12, 'Country': 'TZ', 'Date': 1583003170}, {'City': 'makakilo city', 'Lat': 21.35, 'Lng': -158.09, 'Max Temp': 73, 'Humidity': 77, 'Cloudiness': 40, 'Wind Speed': 14.99, 'Country': 'US', 'Date': 1583003171}, {'City': 'nautla', 'Lat': 20.22, 'Lng': -96.78, 'Max Temp': 68.36, 'Humidity': 75, 'Cloudiness': 42, 'Wind Speed': 5.17, 'Country': 'MX', 'Date': 1583003171}, {'City': 'mmabatho', 'Lat': -25.85, 'Lng': 25.63, 'Max Temp': 69.8, 'Humidity': 60, 'Cloudiness': 40, 'Wind Speed': 8.05, 'Country': 'ZA', 'Date': 1583003171}, {'City': 'sao filipe', 'Lat': 14.9, 'Lng': -24.5, 'Max Temp': 75.92, 'Humidity': 54, 'Cloudiness': 0, 'Wind Speed': 14.94, 'Country': 'CV', 'Date': 1583003171}, {'City': 'brae', 'Lat': 60.4, 'Lng': -1.35, 'Max Temp': 41, 'Humidity': 93, 'Cloudiness': 100, 'Wind Speed': 14.99, 'Country': 'GB', 'Date': 1583003171}, {'City': 'sarangani', 'Lat': 5.4, 'Lng': 125.46, 'Max Temp': 81.32, 'Humidity': 78, 'Cloudiness': 41, 'Wind Speed': 21.83, 'Country': 'PH', 'Date': 1583003171}, {'City': 'verkhoyansk', 'Lat': 67.54, 'Lng': 133.38, 'Max Temp': -10.44, 'Humidity': 72, 'Cloudiness': 0, 'Wind Speed': 2.19, 'Country': 'RU', 'Date': 1583003171}, {'City': 'high level', 'Lat': 58.52, 'Lng': -117.14, 'Max Temp': 5, 'Humidity': 71, 'Cloudiness': 75, 'Wind Speed': 11.41, 'Country': 'CA', 'Date': 1583003171}, {'City': 'karasburg', 'Lat': -28.02, 'Lng': 18.75, 'Max Temp': 91.54, 'Humidity': 20, 'Cloudiness': 59, 'Wind Speed': 11.79, 'Country': 'NA', 'Date': 1583003171}, {'City': 'markova', 'Lat': 48.68, 'Lng': 24.41, 'Max Temp': 37.4, 'Humidity': 47, 'Cloudiness': 61, 'Wind Speed': 6.71, 'Country': 'UA', 'Date': 1583003171}, {'City': 'jabinyanah', 'Lat': 35.03, 'Lng': 10.91, 'Max Temp': 64.4, 'Humidity': 59, 'Cloudiness': 19, 'Wind Speed': 9.17, 'Country': 'TN', 'Date': 1583003172}, {'City': 'erenhot', 'Lat': 43.65, 'Lng': 111.98, 'Max Temp': 20.28, 'Humidity': 91, 'Cloudiness': 98, 'Wind Speed': 10.51, 'Country': 'CN', 'Date': 1583003107}, {'City': 'sandwick', 'Lat': 60, 'Lng': -1.25, 'Max Temp': 41, 'Humidity': 80, 'Cloudiness': 100, 'Wind Speed': 11.41, 'Country': 'GB', 'Date': 1583003172}, {'City': 'makarov', 'Lat': 48.63, 'Lng': 142.8, 'Max Temp': 6.1, 'Humidity': 82, 'Cloudiness': 0, 'Wind Speed': 2.8, 'Country': 'RU', 'Date': 1583003172}, {'City': 'zhangye', 'Lat': 38.93, 'Lng': 100.45, 'Max Temp': 31.26, 'Humidity': 43, 'Cloudiness': 89, 'Wind Speed': 0.72, 'Country': 'CN', 'Date': 1583003172}, {'City': 'katsikas', 'Lat': 39.62, 'Lng': 20.89, 'Max Temp': 42.8, 'Humidity': 56, 'Cloudiness': 69, 'Wind Speed': 1.12, 'Country': 'GR', 'Date': 1583003172}, {'City': 'paracuru', 'Lat': -3.41, 'Lng': -39.03, 'Max Temp': 87.8, 'Humidity': 58, 'Cloudiness': 40, 'Wind Speed': 8.05, 'Country': 'BR', 'Date': 1583003172}, {'City': 'matagami', 'Lat': 49.75, 'Lng': -77.63, 'Max Temp': 6.8, 'Humidity': 77, 'Cloudiness': 90, 'Wind Speed': 5.82, 'Country': 'CA', 'Date': 1583003172}, {'City': 'rampura', 'Lat': 30.25, 'Lng': 75.23, 'Max Temp': 57.87, 'Humidity': 86, 'Cloudiness': 2, 'Wind Speed': 6.35, 'Country': 'IN', 'Date': 1583003172}, {'City': 'barabinsk', 'Lat': 55.36, 'Lng': 78.36, 'Max Temp': 29.01, 'Humidity': 96, 'Cloudiness': 100, 'Wind Speed': 7.63, 'Country': 'RU', 'Date': 1583003172}, {'City': 'verkh-chebula', 'Lat': 56.03, 'Lng': 87.62, 'Max Temp': 14.45, 'Humidity': 92, 'Cloudiness': 91, 'Wind Speed': 2.15, 'Country': 'RU', 'Date': 1583003172}, {'City': 'zhigansk', 'Lat': 66.77, 'Lng': 123.37, 'Max Temp': -2.49, 'Humidity': 94, 'Cloudiness': 94, 'Wind Speed': 9.22, 'Country': 'RU', 'Date': 1583003173}, {'City': 'todos santos', 'Lat': 23.45, 'Lng': -110.22, 'Max Temp': 84, 'Humidity': 17, 'Cloudiness': 5, 'Wind Speed': 3.06, 'Country': 'MX', 'Date': 1583003173}, {'City': 'tautira', 'Lat': -17.73, 'Lng': -149.15, 'Max Temp': 75.2, 'Humidity': 94, 'Cloudiness': 75, 'Wind Speed': 6.93, 'Country': 'PF', 'Date': 1583002883}, {'City': 'redmond', 'Lat': 47.67, 'Lng': -122.12, 'Max Temp': 46.99, 'Humidity': 81, 'Cloudiness': 75, 'Wind Speed': 5.82, 'Country': 'US', 'Date': 1583003006}, {'City': 'cabanglasan', 'Lat': 8.12, 'Lng': 125.33, 'Max Temp': 66.87, 'Humidity': 99, 'Cloudiness': 75, 'Wind Speed': 0.69, 'Country': 'PH', 'Date': 1583003173}, {'City': 'scarborough', 'Lat': 54.28, 'Lng': -0.4, 'Max Temp': 42.01, 'Humidity': 62, 'Cloudiness': 34, 'Wind Speed': 14.99, 'Country': 'GB', 'Date': 1583002900}, {'City': 'laguna', 'Lat': 38.42, 'Lng': -121.42, 'Max Temp': 64, 'Humidity': 42, 'Cloudiness': 1, 'Wind Speed': 4.7, 'Country': 'US', 'Date': 1583003173}, {'City': 'half moon bay', 'Lat': 37.46, 'Lng': -122.43, 'Max Temp': 61, 'Humidity': 71, 'Cloudiness': 75, 'Wind Speed': 16.11, 'Country': 'US', 'Date': 1583003173}, {'City': 'monywa', 'Lat': 22.12, 'Lng': 95.13, 'Max Temp': 72.72, 'Humidity': 37, 'Cloudiness': 0, 'Wind Speed': 3.51, 'Country': 'MM', 'Date': 1583003173}, {'City': 'finote selam', 'Lat': 10.7, 'Lng': 37.27, 'Max Temp': 70.5, 'Humidity': 31, 'Cloudiness': 88, 'Wind Speed': 3.69, 'Country': 'ET', 'Date': 1583003173}, {'City': 'dargaville', 'Lat': -35.93, 'Lng': 173.88, 'Max Temp': 61.09, 'Humidity': 98, 'Cloudiness': 84, 'Wind Speed': 2.26, 'Country': 'NZ', 'Date': 1583003174}, {'City': 'mwinilunga', 'Lat': -11.74, 'Lng': 24.43, 'Max Temp': 65.68, 'Humidity': 96, 'Cloudiness': 100, 'Wind Speed': 3.96, 'Country': 'ZM', 'Date': 1583003174}, {'City': 'rio grande', 'Lat': -32.03, 'Lng': -52.1, 'Max Temp': 89.6, 'Humidity': 24, 'Cloudiness': 0, 'Wind Speed': 11.41, 'Country': 'BR', 'Date': 1583003174}, {'City': 'papar', 'Lat': 5.73, 'Lng': 115.93, 'Max Temp': 79, 'Humidity': 88, 'Cloudiness': 20, 'Wind Speed': 3.36, 'Country': 'MY', 'Date': 1583003174}, {'City': 'erbaa', 'Lat': 40.67, 'Lng': 36.57, 'Max Temp': 46.4, 'Humidity': 87, 'Cloudiness': 90, 'Wind Speed': 9.17, 'Country': 'TR', 'Date': 1583003174}, {'City': 'catuday', 'Lat': 16.29, 'Lng': 119.81, 'Max Temp': 78.35, 'Humidity': 74, 'Cloudiness': 0, 'Wind Speed': 12.66, 'Country': 'PH', 'Date': 1583003174}, {'City': 'naryan-mar', 'Lat': 67.67, 'Lng': 53.09, 'Max Temp': 21.45, 'Humidity': 96, 'Cloudiness': 100, 'Wind Speed': 3.89, 'Country': 'RU', 'Date': 1583003174}, {'City': 'quatre cocos', 'Lat': -20.21, 'Lng': 57.76, 'Max Temp': 78.01, 'Humidity': 100, 'Cloudiness': 40, 'Wind Speed': 1.12, 'Country': 'MU', 'Date': 1583003174}, {'City': 'colombo', 'Lat': 6.93, 'Lng': 79.85, 'Max Temp': 82.4, 'Humidity': 78, 'Cloudiness': 100, 'Wind Speed': 2.24, 'Country': 'LK', 'Date': 1583003175}, {'City': 'porto novo', 'Lat': 6.5, 'Lng': 2.6, 'Max Temp': 86, 'Humidity': 84, 'Cloudiness': 20, 'Wind Speed': 11.41, 'Country': 'BJ', 'Date': 1583002898}, {'City': 'samarai', 'Lat': -10.62, 'Lng': 150.67, 'Max Temp': 76.98, 'Humidity': 86, 'Cloudiness': 73, 'Wind Speed': 2.82, 'Country': 'PG', 'Date': 1583003175}, {'City': 'nantucket', 'Lat': 41.28, 'Lng': -70.1, 'Max Temp': 39, 'Humidity': 47, 'Cloudiness': 40, 'Wind Speed': 18.34, 'Country': 'US', 'Date': 1583002892}, {'City': 'natal', 'Lat': -5.79, 'Lng': -35.21, 'Max Temp': 89.6, 'Humidity': 59, 'Cloudiness': 40, 'Wind Speed': 18.34, 'Country': 'BR', 'Date': 1583002958}, {'City': 'filingue', 'Lat': 14.35, 'Lng': 3.32, 'Max Temp': 81.45, 'Humidity': 12, 'Cloudiness': 0, 'Wind Speed': 2.62, 'Country': 'NE', 'Date': 1583003166}, {'City': 'mehran', 'Lat': 33.12, 'Lng': 46.16, 'Max Temp': 53.6, 'Humidity': 71, 'Cloudiness': 75, 'Wind Speed': 4.7, 'Country': 'IR', 'Date': 1583003175}, {'City': 'zhangjiakou', 'Lat': 40.81, 'Lng': 114.88, 'Max Temp': 22.98, 'Humidity': 65, 'Cloudiness': 90, 'Wind Speed': 12.41, 'Country': 'CN', 'Date': 1583003175}, {'City': 'moa', 'Lat': 20.66, 'Lng': -74.94, 'Max Temp': 65.97, 'Humidity': 97, 'Cloudiness': 99, 'Wind Speed': 6.67, 'Country': 'CU', 'Date': 1583002985}, {'City': 'college', 'Lat': 64.86, 'Lng': -147.8, 'Max Temp': -5.01, 'Humidity': 73, 'Cloudiness': 1, 'Wind Speed': 2.21, 'Country': 'US', 'Date': 1583003175}, {'City': 'punta gorda', 'Lat': 26.93, 'Lng': -82.05, 'Max Temp': 69.01, 'Humidity': 22, 'Cloudiness': 1, 'Wind Speed': 11.41, 'Country': 'US', 'Date': 1583003175}, {'City': 'alice springs', 'Lat': -23.7, 'Lng': 133.88, 'Max Temp': 69.8, 'Humidity': 22, 'Cloudiness': 80, 'Wind Speed': 3.36, 'Country': 'AU', 'Date': 1583003176}, {'City': 'narsaq', 'Lat': 60.92, 'Lng': -46.05, 'Max Temp': 12.2, 'Humidity': 39, 'Cloudiness': 5, 'Wind Speed': 1.66, 'Country': 'GL', 'Date': 1583003176}, {'City': 'eha amufu', 'Lat': 6.66, 'Lng': 7.76, 'Max Temp': 94.17, 'Humidity': 22, 'Cloudiness': 53, 'Wind Speed': 2.91, 'Country': 'NG', 'Date': 1583003176}, {'City': 'saint-ambroise', 'Lat': 48.55, 'Lng': -71.33, 'Max Temp': 19.99, 'Humidity': 67, 'Cloudiness': 75, 'Wind Speed': 11.41, 'Country': 'CA', 'Date': 1583003176}, {'City': 'claveria', 'Lat': 18.61, 'Lng': 121.08, 'Max Temp': 68.43, 'Humidity': 86, 'Cloudiness': 0, 'Wind Speed': 4.32, 'Country': 'PH', 'Date': 1583003176}, {'City': 'bowen', 'Lat': -20.02, 'Lng': 148.23, 'Max Temp': 75.99, 'Humidity': 88, 'Cloudiness': 40, 'Wind Speed': 5.82, 'Country': 'AU', 'Date': 1583003176}, {'City': 'tomigusuku', 'Lat': 26.18, 'Lng': 127.67, 'Max Temp': 71.6, 'Humidity': 88, 'Cloudiness': 20, 'Wind Speed': 12.75, 'Country': 'JP', 'Date': 1583003176}, {'City': 'abbeville', 'Lat': 50.1, 'Lng': 1.83, 'Max Temp': 44.6, 'Humidity': 75, 'Cloudiness': 97, 'Wind Speed': 21.92, 'Country': 'FR', 'Date': 1583003176}, {'City': 'las palmas', 'Lat': 28.42, 'Lng': -14.01, 'Max Temp': 66.2, 'Humidity': 72, 'Cloudiness': 20, 'Wind Speed': 16.11, 'Country': 'ES', 'Date': 1583003176}, {'City': 'beloha', 'Lat': -25.17, 'Lng': 45.05, 'Max Temp': 72.95, 'Humidity': 82, 'Cloudiness': 78, 'Wind Speed': 13.06, 'Country': 'MG', 'Date': 1583003147}, {'City': 'wenling', 'Lat': 28.37, 'Lng': 121.36, 'Max Temp': 55, 'Humidity': 94, 'Cloudiness': 100, 'Wind Speed': 1.01, 'Country': 'CN', 'Date': 1583003176}, {'City': 'teya', 'Lat': 60.38, 'Lng': 92.63, 'Max Temp': 7.92, 'Humidity': 95, 'Cloudiness': 94, 'Wind Speed': 4.61, 'Country': 'RU', 'Date': 1583003065}, {'City': 'omaruru', 'Lat': -21.43, 'Lng': 15.93, 'Max Temp': 70.07, 'Humidity': 66, 'Cloudiness': 97, 'Wind Speed': 7.05, 'Country': 'NA', 'Date': 1583003177}, {'City': 'harnai', 'Lat': 30.1, 'Lng': 67.94, 'Max Temp': 63.46, 'Humidity': 41, 'Cloudiness': 0, 'Wind Speed': 1.48, 'Country': 'PK', 'Date': 1583003177}, {'City': 'ossora', 'Lat': 59.24, 'Lng': 163.07, 'Max Temp': 2.89, 'Humidity': 64, 'Cloudiness': 0, 'Wind Speed': 5.84, 'Country': 'RU', 'Date': 1583003177}, {'City': 'jinchang', 'Lat': 38.5, 'Lng': 102.17, 'Max Temp': 25.75, 'Humidity': 81, 'Cloudiness': 100, 'Wind Speed': 2.84, 'Country': 'CN', 'Date': 1583003177}, {'City': 'saldanha', 'Lat': -33.01, 'Lng': 17.94, 'Max Temp': 82.4, 'Humidity': 23, 'Cloudiness': 0, 'Wind Speed': 12.75, 'Country': 'ZA', 'Date': 1583003177}, {'City': 'candelaria', 'Lat': 13.93, 'Lng': 121.42, 'Max Temp': 75, 'Humidity': 91, 'Cloudiness': 5, 'Wind Speed': 4.74, 'Country': 'PH', 'Date': 1583003177}, {'City': 'dunedin', 'Lat': -45.87, 'Lng': 170.5, 'Max Temp': 53.01, 'Humidity': 79, 'Cloudiness': 18, 'Wind Speed': 5.01, 'Country': 'NZ', 'Date': 1583003177}, {'City': 'port-gentil', 'Lat': -0.72, 'Lng': 8.78, 'Max Temp': 82.4, 'Humidity': 88, 'Cloudiness': 40, 'Wind Speed': 5.82, 'Country': 'GA', 'Date': 1583003177}, {'City': 'saint-paul', 'Lat': -21.01, 'Lng': 55.27, 'Max Temp': 80.6, 'Humidity': 83, 'Cloudiness': 40, 'Wind Speed': 9.17, 'Country': 'RE', 'Date': 1583003165}, {'City': 'dubbo', 'Lat': -32.25, 'Lng': 148.62, 'Max Temp': 68, 'Humidity': 77, 'Cloudiness': 97, 'Wind Speed': 11.41, 'Country': 'AU', 'Date': 1583003043}, {'City': 'koshurnikovo', 'Lat': 54.17, 'Lng': 93.3, 'Max Temp': 26.65, 'Humidity': 97, 'Cloudiness': 100, 'Wind Speed': 6.08, 'Country': 'RU', 'Date': 1583003177}, {'City': 'bossangoa', 'Lat': 6.49, 'Lng': 17.46, 'Max Temp': 87.87, 'Humidity': 14, 'Cloudiness': 55, 'Wind Speed': 4.63, 'Country': 'CF', 'Date': 1583003178}, {'City': 'say', 'Lat': 13.1, 'Lng': 2.37, 'Max Temp': 96.8, 'Humidity': 7, 'Cloudiness': 0, 'Wind Speed': 4.7, 'Country': 'NE', 'Date': 1583003178}, {'City': 'lashio', 'Lat': 22.93, 'Lng': 97.75, 'Max Temp': 56.41, 'Humidity': 57, 'Cloudiness': 0, 'Wind Speed': 0.58, 'Country': 'MM', 'Date': 1583003178}, {'City': 'ketchikan', 'Lat': 55.34, 'Lng': -131.65, 'Max Temp': 41, 'Humidity': 80, 'Cloudiness': 90, 'Wind Speed': 11.41, 'Country': 'US', 'Date': 1583003178}, {'City': 'barranca', 'Lat': -10.75, 'Lng': -77.77, 'Max Temp': 73.94, 'Humidity': 91, 'Cloudiness': 81, 'Wind Speed': 10.78, 'Country': 'PE', 'Date': 1583003111}, {'City': 'san quintin', 'Lat': 30.48, 'Lng': -115.95, 'Max Temp': 65.23, 'Humidity': 50, 'Cloudiness': 86, 'Wind Speed': 6.85, 'Country': 'MX', 'Date': 1583003016}, {'City': 'lavrentiya', 'Lat': 65.58, 'Lng': -171, 'Max Temp': -11.96, 'Humidity': 89, 'Cloudiness': 15, 'Wind Speed': 5.93, 'Country': 'RU', 'Date': 1583003178}, {'City': 'palmer', 'Lat': 42.16, 'Lng': -72.33, 'Max Temp': 35.01, 'Humidity': 58, 'Cloudiness': 75, 'Wind Speed': 9.17, 'Country': 'US', 'Date': 1583002970}, {'City': 'iqaluit', 'Lat': 63.75, 'Lng': -68.51, 'Max Temp': -9, 'Humidity': 76, 'Cloudiness': 40, 'Wind Speed': 3.36, 'Country': 'CA', 'Date': 1583003176}, {'City': 'skjervoy', 'Lat': 70.03, 'Lng': 20.97, 'Max Temp': 29.52, 'Humidity': 70, 'Cloudiness': 100, 'Wind Speed': 19.04, 'Country': 'NO', 'Date': 1583002977}, {'City': 'florence', 'Lat': 43.77, 'Lng': 11.25, 'Max Temp': 55, 'Humidity': 53, 'Cloudiness': 75, 'Wind Speed': 1.12, 'Country': 'IT', 'Date': 1583003179}, {'City': 'hilpoltstein', 'Lat': 49.19, 'Lng': 11.19, 'Max Temp': 50, 'Humidity': 71, 'Cloudiness': 40, 'Wind Speed': 16.11, 'Country': 'DE', 'Date': 1583003179}, {'City': 'khorixas', 'Lat': -20.37, 'Lng': 14.97, 'Max Temp': 70.56, 'Humidity': 76, 'Cloudiness': 100, 'Wind Speed': 10.2, 'Country': 'NA', 'Date': 1583003179}, {'City': 'oyama', 'Lat': 36.3, 'Lng': 139.8, 'Max Temp': 52, 'Humidity': 87, 'Cloudiness': 75, 'Wind Speed': 3.36, 'Country': 'JP', 'Date': 1583003179}, {'City': 'suntar', 'Lat': 62.14, 'Lng': 117.63, 'Max Temp': 0.27, 'Humidity': 99, 'Cloudiness': 85, 'Wind Speed': 1.01, 'Country': 'RU', 'Date': 1583003179}, {'City': 'cam ranh', 'Lat': 11.92, 'Lng': 109.16, 'Max Temp': 78.8, 'Humidity': 83, 'Cloudiness': 20, 'Wind Speed': 5.82, 'Country': 'VN', 'Date': 1583003179}, {'City': 'guantanamo', 'Lat': 20.14, 'Lng': -75.21, 'Max Temp': 82.4, 'Humidity': 58, 'Cloudiness': 75, 'Wind Speed': 18.34, 'Country': 'CU', 'Date': 1583003179}, {'City': 'dharchula', 'Lat': 29.85, 'Lng': 80.53, 'Max Temp': 35.13, 'Humidity': 57, 'Cloudiness': 100, 'Wind Speed': 11.18, 'Country': 'IN', 'Date': 1583003179}, {'City': 'dzilam gonzalez', 'Lat': 21.28, 'Lng': -88.93, 'Max Temp': 70.29, 'Humidity': 64, 'Cloudiness': 0, 'Wind Speed': 20.27, 'Country': 'MX', 'Date': 1583003179}, {'City': 'nalut', 'Lat': 30.33, 'Lng': 10.85, 'Max Temp': 65.07, 'Humidity': 16, 'Cloudiness': 0, 'Wind Speed': 7.31, 'Country': 'LY', 'Date': 1583002926}, {'City': 'mukerian', 'Lat': 31.95, 'Lng': 75.62, 'Max Temp': 58.93, 'Humidity': 81, 'Cloudiness': 100, 'Wind Speed': 6.13, 'Country': 'IN', 'Date': 1583003179}, {'City': 'markala', 'Lat': 13.7, 'Lng': -6.07, 'Max Temp': 92.97, 'Humidity': 7, 'Cloudiness': 50, 'Wind Speed': 8.05, 'Country': 'ML', 'Date': 1583003180}, {'City': 'caravelas', 'Lat': -17.71, 'Lng': -39.25, 'Max Temp': 82.78, 'Humidity': 68, 'Cloudiness': 54, 'Wind Speed': 7.38, 'Country': 'BR', 'Date': 1583002991}, {'City': 'hue', 'Lat': 16.47, 'Lng': 107.6, 'Max Temp': 73.4, 'Humidity': 94, 'Cloudiness': 20, 'Wind Speed': 2.24, 'Country': 'VN', 'Date': 1583003180}, {'City': 'guadalajara', 'Lat': 20.67, 'Lng': -103.33, 'Max Temp': 81, 'Humidity': 36, 'Cloudiness': 5, 'Wind Speed': 4.7, 'Country': 'MX', 'Date': 1583003180}, {'City': 'imeni poliny osipenko', 'Lat': 52.42, 'Lng': 136.49, 'Max Temp': -1.8, 'Humidity': 96, 'Cloudiness': 9, 'Wind Speed': 7.05, 'Country': 'RU', 'Date': 1583003180}, {'City': 'maracaibo', 'Lat': 10.63, 'Lng': -71.64, 'Max Temp': 85.95, 'Humidity': 55, 'Cloudiness': 1, 'Wind Speed': 18.23, 'Country': 'VE', 'Date': 1583002978}, {'City': 'cascais', 'Lat': 38.7, 'Lng': -9.42, 'Max Temp': 61, 'Humidity': 82, 'Cloudiness': 20, 'Wind Speed': 8.05, 'Country': 'PT', 'Date': 1583002904}, {'City': 'floriano', 'Lat': -6.77, 'Lng': -43.02, 'Max Temp': 87.91, 'Humidity': 62, 'Cloudiness': 96, 'Wind Speed': 2.15, 'Country': 'BR', 'Date': 1583003180}, {'City': 'acapulco', 'Lat': 16.86, 'Lng': -99.89, 'Max Temp': 86, 'Humidity': 70, 'Cloudiness': 5, 'Wind Speed': 6.93, 'Country': 'MX', 'Date': 1583003140}, {'City': 'clyde river', 'Lat': 70.47, 'Lng': -68.59, 'Max Temp': -22, 'Humidity': 74, 'Cloudiness': 20, 'Wind Speed': 16.11, 'Country': 'CA', 'Date': 1583003180}, {'City': 'nanakuli', 'Lat': 21.39, 'Lng': -158.15, 'Max Temp': 73, 'Humidity': 77, 'Cloudiness': 40, 'Wind Speed': 14.99, 'Country': 'US', 'Date': 1583003008}, {'City': 'vodnyy', 'Lat': 63.5, 'Lng': 53.41, 'Max Temp': 28.6, 'Humidity': 94, 'Cloudiness': 100, 'Wind Speed': 9.44, 'Country': 'RU', 'Date': 1583003181}, {'City': 'dwarka', 'Lat': 22.24, 'Lng': 68.97, 'Max Temp': 74.71, 'Humidity': 83, 'Cloudiness': 0, 'Wind Speed': 12.95, 'Country': 'IN', 'Date': 1583003181}, {'City': 'vangaindrano', 'Lat': -23.35, 'Lng': 47.6, 'Max Temp': 72.03, 'Humidity': 90, 'Cloudiness': 24, 'Wind Speed': 3.98, 'Country': 'MG', 'Date': 1583003181}, {'City': 'coquimbo', 'Lat': -29.95, 'Lng': -71.34, 'Max Temp': 64.4, 'Humidity': 77, 'Cloudiness': 75, 'Wind Speed': 10.29, 'Country': 'CL', 'Date': 1583003181}, {'City': 'novyy urengoy', 'Lat': 66.08, 'Lng': 76.63, 'Max Temp': 7.16, 'Humidity': 86, 'Cloudiness': 45, 'Wind Speed': 19.53, 'Country': 'RU', 'Date': 1583003181}, {'City': 'ancud', 'Lat': -41.87, 'Lng': -73.82, 'Max Temp': 73.4, 'Humidity': 60, 'Cloudiness': 12, 'Wind Speed': 10.29, 'Country': 'CL', 'Date': 1583002984}, {'City': 'nouadhibou', 'Lat': 20.93, 'Lng': -17.03, 'Max Temp': 73.4, 'Humidity': 60, 'Cloudiness': 0, 'Wind Speed': 18.34, 'Country': 'MR', 'Date': 1583003181}, {'City': 'platteville', 'Lat': 42.73, 'Lng': -90.48, 'Max Temp': 35.01, 'Humidity': 50, 'Cloudiness': 1, 'Wind Speed': 10.29, 'Country': 'US', 'Date': 1583003181}, {'City': 'port lincoln', 'Lat': -34.73, 'Lng': 135.87, 'Max Temp': 65.5, 'Humidity': 68, 'Cloudiness': 53, 'Wind Speed': 3.74, 'Country': 'AU', 'Date': 1583002975}, {'City': 'kalikino', 'Lat': 52.95, 'Lng': 39.83, 'Max Temp': 32, 'Humidity': 90, 'Cloudiness': 25, 'Wind Speed': 8.95, 'Country': 'RU', 'Date': 1583003181}, {'City': 'norman wells', 'Lat': 65.28, 'Lng': -126.83, 'Max Temp': -22, 'Humidity': 74, 'Cloudiness': 5, 'Wind Speed': 6.93, 'Country': 'CA', 'Date': 1583002991}, {'City': 'buala', 'Lat': -8.14, 'Lng': 159.59, 'Max Temp': 81.36, 'Humidity': 74, 'Cloudiness': 99, 'Wind Speed': 3.22, 'Country': 'SB', 'Date': 1583002997}, {'City': 'kathmandu', 'Lat': 27.72, 'Lng': 85.32, 'Max Temp': 51.8, 'Humidity': 93, 'Cloudiness': 20, 'Wind Speed': 2.24, 'Country': 'NP', 'Date': 1583003102}, {'City': 'puerto ayacucho', 'Lat': 5.66, 'Lng': -67.62, 'Max Temp': 96.8, 'Humidity': 39, 'Cloudiness': 20, 'Wind Speed': 4.7, 'Country': 'VE', 'Date': 1583003182}, {'City': 'voloshka', 'Lat': 61.33, 'Lng': 40.09, 'Max Temp': 16.45, 'Humidity': 94, 'Cloudiness': 91, 'Wind Speed': 6.67, 'Country': 'RU', 'Date': 1583003182}, {'City': 'burnie', 'Lat': -41.07, 'Lng': 145.92, 'Max Temp': 51.01, 'Humidity': 93, 'Cloudiness': 12, 'Wind Speed': 1.01, 'Country': 'AU', 'Date': 1583003182}, {'City': 'kununurra', 'Lat': -15.77, 'Lng': 128.73, 'Max Temp': 77, 'Humidity': 94, 'Cloudiness': 100, 'Wind Speed': 4.5, 'Country': 'AU', 'Date': 1583003182}, {'City': 'lake city', 'Lat': 30.19, 'Lng': -82.64, 'Max Temp': 66, 'Humidity': 23, 'Cloudiness': 1, 'Wind Speed': 20.8, 'Country': 'US', 'Date': 1583003182}, {'City': 'hambantota', 'Lat': 6.12, 'Lng': 81.12, 'Max Temp': 78.8, 'Humidity': 94, 'Cloudiness': 5, 'Wind Speed': 5.82, 'Country': 'LK', 'Date': 1583003182}, {'City': 'sechura', 'Lat': -5.56, 'Lng': -80.82, 'Max Temp': 74.3, 'Humidity': 89, 'Cloudiness': 58, 'Wind Speed': 14.72, 'Country': 'PE', 'Date': 1583003182}, {'City': 'yeppoon', 'Lat': -23.13, 'Lng': 150.73, 'Max Temp': 75.2, 'Humidity': 83, 'Cloudiness': 0, 'Wind Speed': 6.93, 'Country': 'AU', 'Date': 1583003183}, {'City': 'orel-izumrud', 'Lat': 43.46, 'Lng': 39.92, 'Max Temp': 48.2, 'Humidity': 93, 'Cloudiness': 90, 'Wind Speed': 2.24, 'Country': 'RU', 'Date': 1583003183}, {'City': 'nosy varika', 'Lat': -20.58, 'Lng': 48.53, 'Max Temp': 76.32, 'Humidity': 86, 'Cloudiness': 21, 'Wind Speed': 5.28, 'Country': 'MG', 'Date': 1583003007}, {'City': 'linhares', 'Lat': -19.39, 'Lng': -40.07, 'Max Temp': 82.67, 'Humidity': 81, 'Cloudiness': 62, 'Wind Speed': 4.68, 'Country': 'BR', 'Date': 1583002977}, {'City': 'bremerton', 'Lat': 47.57, 'Lng': -122.63, 'Max Temp': 46.99, 'Humidity': 86, 'Cloudiness': 75, 'Wind Speed': 9.17, 'Country': 'US', 'Date': 1583002959}, {'City': 'upernavik', 'Lat': 72.79, 'Lng': -56.15, 'Max Temp': -22.34, 'Humidity': 83, 'Cloudiness': 59, 'Wind Speed': 4.07, 'Country': 'GL', 'Date': 1583003183}, {'City': 'niksic', 'Lat': 42.77, 'Lng': 18.94, 'Max Temp': 44.6, 'Humidity': 74, 'Cloudiness': 100, 'Wind Speed': 1.12, 'Country': 'ME', 'Date': 1583003183}, {'City': 'bandarbeyla', 'Lat': 9.49, 'Lng': 50.81, 'Max Temp': 77.67, 'Humidity': 72, 'Cloudiness': 54, 'Wind Speed': 12.26, 'Country': 'SO', 'Date': 1583002958}, {'City': 'okha', 'Lat': 53.57, 'Lng': 142.95, 'Max Temp': -0.81, 'Humidity': 98, 'Cloudiness': 62, 'Wind Speed': 6.67, 'Country': 'RU', 'Date': 1583003183}, {'City': 'okhotsk', 'Lat': 59.38, 'Lng': 143.3, 'Max Temp': 0.68, 'Humidity': 68, 'Cloudiness': 0, 'Wind Speed': 8.23, 'Country': 'RU', 'Date': 1583003142}, {'City': 'surgut', 'Lat': 61.25, 'Lng': 73.42, 'Max Temp': 30.2, 'Humidity': 100, 'Cloudiness': 40, 'Wind Speed': 15.66, 'Country': 'RU', 'Date': 1583003184}, {'City': 'tilichiki', 'Lat': 60.47, 'Lng': 166.1, 'Max Temp': -8.81, 'Humidity': 87, 'Cloudiness': 0, 'Wind Speed': 9.31, 'Country': 'RU', 'Date': 1583002988}, {'City': 'whitehorse', 'Lat': 60.72, 'Lng': -135.05, 'Max Temp': 3.99, 'Humidity': 75, 'Cloudiness': 40, 'Wind Speed': 3.36, 'Country': 'CA', 'Date': 1583002987}, {'City': 'walvis bay', 'Lat': -22.96, 'Lng': 14.51, 'Max Temp': 68, 'Humidity': 82, 'Cloudiness': 100, 'Wind Speed': 6.93, 'Country': 'NA', 'Date': 1583003184}, {'City': 'ust-omchug', 'Lat': 61.15, 'Lng': 149.63, 'Max Temp': -12.14, 'Humidity': 99, 'Cloudiness': 26, 'Wind Speed': 3.71, 'Country': 'RU', 'Date': 1583002911}, {'City': 'safaga', 'Lat': 26.73, 'Lng': 33.94, 'Max Temp': 68, 'Humidity': 30, 'Cloudiness': 0, 'Wind Speed': 14.99, 'Country': 'EG', 'Date': 1583003184}, {'City': 'mastic beach', 'Lat': 40.77, 'Lng': -72.85, 'Max Temp': 36, 'Humidity': 37, 'Cloudiness': 40, 'Wind Speed': 12.75, 'Country': 'US', 'Date': 1583003134}, {'City': 'wageningen', 'Lat': 51.97, 'Lng': 5.67, 'Max Temp': 45, 'Humidity': 72, 'Cloudiness': 67, 'Wind Speed': 16.11, 'Country': 'NL', 'Date': 1583003184}, {'City': 'colares', 'Lat': 38.8, 'Lng': -9.45, 'Max Temp': 60.01, 'Humidity': 82, 'Cloudiness': 20, 'Wind Speed': 8.05, 'Country': 'PT', 'Date': 1583003184}, {'City': 'alyangula', 'Lat': -13.85, 'Lng': 136.42, 'Max Temp': 77, 'Humidity': 100, 'Cloudiness': 100, 'Wind Speed': 3.36, 'Country': 'AU', 'Date': 1583003185}, {'City': 'tabuk', 'Lat': 17.42, 'Lng': 121.44, 'Max Temp': 68.95, 'Humidity': 89, 'Cloudiness': 9, 'Wind Speed': 5.55, 'Country': 'PH', 'Date': 1583003185}, {'City': 'xai-xai', 'Lat': -25.05, 'Lng': 33.64, 'Max Temp': 69.51, 'Humidity': 79, 'Cloudiness': 60, 'Wind Speed': 8.3, 'Country': 'MZ', 'Date': 1583003185}, {'City': 'kyzyl-suu', 'Lat': 42.34, 'Lng': 78, 'Max Temp': 29.07, 'Humidity': 67, 'Cloudiness': 0, 'Wind Speed': 6.44, 'Country': 'KG', 'Date': 1583003185}, {'City': 'moose factory', 'Lat': 51.26, 'Lng': -80.61, 'Max Temp': 5, 'Humidity': 71, 'Cloudiness': 90, 'Wind Speed': 8.05, 'Country': 'CA', 'Date': 1583003185}, {'City': 'virden', 'Lat': 39.5, 'Lng': -89.77, 'Max Temp': 42.01, 'Humidity': 55, 'Cloudiness': 1, 'Wind Speed': 8.05, 'Country': 'US', 'Date': 1583003185}, {'City': 'san cristobal', 'Lat': 7.77, 'Lng': -72.22, 'Max Temp': 84.2, 'Humidity': 62, 'Cloudiness': 40, 'Wind Speed': 10.29, 'Country': 'VE', 'Date': 1583003185}, {'City': 'aden', 'Lat': 12.78, 'Lng': 45.04, 'Max Temp': 78.55, 'Humidity': 58, 'Cloudiness': 0, 'Wind Speed': 7.11, 'Country': 'YE', 'Date': 1583002895}, {'City': 'bundaberg', 'Lat': -24.85, 'Lng': 152.35, 'Max Temp': 71.6, 'Humidity': 88, 'Cloudiness': 7, 'Wind Speed': 5.82, 'Country': 'AU', 'Date': 1583003185}, {'City': 'nyakahanga', 'Lat': -1.6, 'Lng': 31.14, 'Max Temp': 67.26, 'Humidity': 75, 'Cloudiness': 31, 'Wind Speed': 3.36, 'Country': 'TZ', 'Date': 1583003185}, {'City': 'guilin', 'Lat': 25.28, 'Lng': 110.29, 'Max Temp': 64.4, 'Humidity': 100, 'Cloudiness': 75, 'Wind Speed': 6.71, 'Country': 'CN', 'Date': 1583003185}, {'City': 'chara', 'Lat': 56.91, 'Lng': 118.26, 'Max Temp': -7.76, 'Humidity': 94, 'Cloudiness': 66, 'Wind Speed': 1.03, 'Country': 'RU', 'Date': 1583003186}, {'City': 'talara', 'Lat': -4.58, 'Lng': -81.27, 'Max Temp': 62.6, 'Humidity': 100, 'Cloudiness': 40, 'Wind Speed': 13.87, 'Country': 'PE', 'Date': 1583003186}, {'City': 'sooke', 'Lat': 48.37, 'Lng': -123.73, 'Max Temp': 48, 'Humidity': 61, 'Cloudiness': 1, 'Wind Speed': 23.04, 'Country': 'CA', 'Date': 1583003186}, {'City': 'mitsamiouli', 'Lat': -11.38, 'Lng': 43.28, 'Max Temp': 83.8, 'Humidity': 72, 'Cloudiness': 100, 'Wind Speed': 8.03, 'Country': 'KM', 'Date': 1583003186}, {'City': 'taoudenni', 'Lat': 22.68, 'Lng': -3.98, 'Max Temp': 84.76, 'Humidity': 8, 'Cloudiness': 0, 'Wind Speed': 9.98, 'Country': 'ML', 'Date': 1583003186}, {'City': 'labrea', 'Lat': -7.26, 'Lng': -64.8, 'Max Temp': 90.43, 'Humidity': 56, 'Cloudiness': 91, 'Wind Speed': 1.57, 'Country': 'BR', 'Date': 1583003186}, {'City': 'kahului', 'Lat': 20.89, 'Lng': -156.47, 'Max Temp': 69.01, 'Humidity': 77, 'Cloudiness': 40, 'Wind Speed': 14.99, 'Country': 'US', 'Date': 1583003180}, {'City': 'cobija', 'Lat': -11.03, 'Lng': -68.77, 'Max Temp': 89.6, 'Humidity': 66, 'Cloudiness': 20, 'Wind Speed': 6.17, 'Country': 'BO', 'Date': 1583003186}, {'City': 'emporia', 'Lat': 38.4, 'Lng': -96.18, 'Max Temp': 64.4, 'Humidity': 27, 'Cloudiness': 1, 'Wind Speed': 19.46, 'Country': 'US', 'Date': 1583003186}, {'City': 'vilcun', 'Lat': -38.65, 'Lng': -72.23, 'Max Temp': 95, 'Humidity': 31, 'Cloudiness': 0, 'Wind Speed': 5.82, 'Country': 'CL', 'Date': 1583003186}, {'City': 'ternate', 'Lat': 0.8, 'Lng': 127.4, 'Max Temp': 76.01, 'Humidity': 92, 'Cloudiness': 71, 'Wind Speed': 4.12, 'Country': 'ID', 'Date': 1583003187}, {'City': 'chenzhou', 'Lat': 25.8, 'Lng': 113.03, 'Max Temp': 57.79, 'Humidity': 92, 'Cloudiness': 100, 'Wind Speed': 3.47, 'Country': 'CN', 'Date': 1583003187}, {'City': 'ocampo', 'Lat': 21.65, 'Lng': -101.5, 'Max Temp': 68.67, 'Humidity': 27, 'Cloudiness': 0, 'Wind Speed': 4.92, 'Country': 'MX', 'Date': 1583003187}, {'City': 'lagoa formosa', 'Lat': -18.78, 'Lng': -46.41, 'Max Temp': 73.99, 'Humidity': 100, 'Cloudiness': 100, 'Wind Speed': 6.69, 'Country': 'BR', 'Date': 1583003187}, {'City': 'vestmanna', 'Lat': 62.16, 'Lng': -7.17, 'Max Temp': 37.4, 'Humidity': 91, 'Cloudiness': 100, 'Wind Speed': 40.26, 'Country': 'FO', 'Date': 1583003187}, {'City': 'tevriz', 'Lat': 57.51, 'Lng': 72.4, 'Max Temp': 30.16, 'Humidity': 88, 'Cloudiness': 100, 'Wind Speed': 9.53, 'Country': 'RU', 'Date': 1583003187}, {'City': 'along', 'Lat': 28.17, 'Lng': 94.77, 'Max Temp': 54.9, 'Humidity': 82, 'Cloudiness': 6, 'Wind Speed': 4.18, 'Country': 'IN', 'Date': 1583003187}, {'City': 'port-cartier', 'Lat': 50.03, 'Lng': -66.87, 'Max Temp': 26.01, 'Humidity': 85, 'Cloudiness': 90, 'Wind Speed': 11.41, 'Country': 'CA', 'Date': 1583003187}, {'City': 'nampula', 'Lat': -15.12, 'Lng': 39.27, 'Max Temp': 72.61, 'Humidity': 96, 'Cloudiness': 98, 'Wind Speed': 6.38, 'Country': 'MZ', 'Date': 1583003187}, {'City': 'broken hill', 'Lat': -31.95, 'Lng': 141.43, 'Max Temp': 71.6, 'Humidity': 30, 'Cloudiness': 63, 'Wind Speed': 9.17, 'Country': 'AU', 'Date': 1583003187}, {'City': 'sukumo', 'Lat': 32.93, 'Lng': 132.73, 'Max Temp': 49.19, 'Humidity': 91, 'Cloudiness': 79, 'Wind Speed': 12.12, 'Country': 'JP', 'Date': 1583003187}, {'City': 'najran', 'Lat': 17.49, 'Lng': 44.13, 'Max Temp': 78.8, 'Humidity': 15, 'Cloudiness': 5, 'Wind Speed': 2.24, 'Country': 'SA', 'Date': 1583003188}, {'City': 'sakakah', 'Lat': 29.97, 'Lng': 40.21, 'Max Temp': 64.4, 'Humidity': 25, 'Cloudiness': 0, 'Wind Speed': 0.49, 'Country': 'SA', 'Date': 1583003188}, {'City': 'salym', 'Lat': 60.06, 'Lng': 71.48, 'Max Temp': 31.53, 'Humidity': 85, 'Cloudiness': 100, 'Wind Speed': 14.25, 'Country': 'RU', 'Date': 1583003188}, {'City': 'maba', 'Lat': 24.68, 'Lng': 113.6, 'Max Temp': 64.89, 'Humidity': 87, 'Cloudiness': 7, 'Wind Speed': 2.17, 'Country': 'CN', 'Date': 1583003188}, {'City': 'avera', 'Lat': 33.19, 'Lng': -82.53, 'Max Temp': 57.99, 'Humidity': 30, 'Cloudiness': 40, 'Wind Speed': 19.46, 'Country': 'US', 'Date': 1583002976}, {'City': 'belyy yar', 'Lat': 53.6, 'Lng': 91.39, 'Max Temp': 35.6, 'Humidity': 64, 'Cloudiness': 100, 'Wind Speed': 8.95, 'Country': 'RU', 'Date': 1583003188}, {'City': 'moshi', 'Lat': -3.35, 'Lng': 37.33, 'Max Temp': 78.8, 'Humidity': 65, 'Cloudiness': 40, 'Wind Speed': 11.41, 'Country': 'TZ', 'Date': 1583002944}, {'City': 'aviles', 'Lat': 43.55, 'Lng': -5.92, 'Max Temp': 57, 'Humidity': 54, 'Cloudiness': 40, 'Wind Speed': 14.99, 'Country': 'ES', 'Date': 1583003188}, {'City': 'el alto', 'Lat': -4.27, 'Lng': -81.21, 'Max Temp': 62.6, 'Humidity': 100, 'Cloudiness': 40, 'Wind Speed': 13.87, 'Country': 'PE', 'Date': 1583003188}, {'City': 'kirovsk', 'Lat': 48.64, 'Lng': 38.64, 'Max Temp': 34.7, 'Humidity': 71, 'Cloudiness': 94, 'Wind Speed': 1.01, 'Country': 'UA', 'Date': 1583003189}, {'City': 'binzhou', 'Lat': 37.37, 'Lng': 118.02, 'Max Temp': 43.68, 'Humidity': 78, 'Cloudiness': 100, 'Wind Speed': 5.84, 'Country': 'CN', 'Date': 1583003189}, {'City': 'layou', 'Lat': 13.2, 'Lng': -61.27, 'Max Temp': 86, 'Humidity': 62, 'Cloudiness': 20, 'Wind Speed': 3.36, 'Country': 'VC', 'Date': 1583003189}, {'City': 'hokitika', 'Lat': -42.72, 'Lng': 170.97, 'Max Temp': 53.02, 'Humidity': 79, 'Cloudiness': 4, 'Wind Speed': 8.68, 'Country': 'NZ', 'Date': 1583003189}, {'City': 'nizhniy kuranakh', 'Lat': 58.84, 'Lng': 125.49, 'Max Temp': -4.11, 'Humidity': 100, 'Cloudiness': 100, 'Wind Speed': 0.85, 'Country': 'RU', 'Date': 1583003189}, {'City': 'claymont', 'Lat': 39.8, 'Lng': -75.46, 'Max Temp': 36, 'Humidity': 34, 'Cloudiness': 75, 'Wind Speed': 16.11, 'Country': 'US', 'Date': 1583003189}, {'City': 'guaruja', 'Lat': -23.99, 'Lng': -46.26, 'Max Temp': 78.01, 'Humidity': 83, 'Cloudiness': 90, 'Wind Speed': 5.82, 'Country': 'BR', 'Date': 1583003189}, {'City': 'pointe michel', 'Lat': 15.25, 'Lng': -61.38, 'Max Temp': 82.4, 'Humidity': 65, 'Cloudiness': 75, 'Wind Speed': 3.36, 'Country': 'DM', 'Date': 1583003189}, {'City': 'san patricio', 'Lat': 19.22, 'Lng': -104.7, 'Max Temp': 87.8, 'Humidity': 70, 'Cloudiness': 5, 'Wind Speed': 6.38, 'Country': 'MX', 'Date': 1583003189}, {'City': 'nazret', 'Lat': 8.55, 'Lng': 39.27, 'Max Temp': 73.9, 'Humidity': 32, 'Cloudiness': 0, 'Wind Speed': 8.81, 'Country': 'ET', 'Date': 1583003190}, {'City': 'hobyo', 'Lat': 5.35, 'Lng': 48.53, 'Max Temp': 76.95, 'Humidity': 77, 'Cloudiness': 42, 'Wind Speed': 13.8, 'Country': 'SO', 'Date': 1583003190}, {'City': 'agadez', 'Lat': 19.75, 'Lng': 10.25, 'Max Temp': 76.95, 'Humidity': 9, 'Cloudiness': 0, 'Wind Speed': 8.19, 'Country': 'NE', 'Date': 1583003190}, {'City': 'garowe', 'Lat': 8.41, 'Lng': 48.48, 'Max Temp': 73.06, 'Humidity': 55, 'Cloudiness': 4, 'Wind Speed': 17.34, 'Country': 'SO', 'Date': 1583003190}, {'City': 'coari', 'Lat': -4.08, 'Lng': -63.14, 'Max Temp': 89.42, 'Humidity': 61, 'Cloudiness': 82, 'Wind Speed': 2.53, 'Country': 'BR', 'Date': 1583003190}, {'City': 'churapcha', 'Lat': 62, 'Lng': 132.43, 'Max Temp': -11.18, 'Humidity': 92, 'Cloudiness': 0, 'Wind Speed': 2.93, 'Country': 'RU', 'Date': 1583003190}, {'City': 'klaksvik', 'Lat': 62.23, 'Lng': -6.59, 'Max Temp': 37.4, 'Humidity': 84, 'Cloudiness': 100, 'Wind Speed': 40.26, 'Country': 'FO', 'Date': 1583003190}, {'City': 'greencastle', 'Lat': 39.64, 'Lng': -86.86, 'Max Temp': 37, 'Humidity': 39, 'Cloudiness': 1, 'Wind Speed': 8.05, 'Country': 'US', 'Date': 1583002906}, {'City': 'les cayes', 'Lat': 18.2, 'Lng': -73.75, 'Max Temp': 79.36, 'Humidity': 78, 'Cloudiness': 3, 'Wind Speed': 11.03, 'Country': 'HT', 'Date': 1583003191}, {'City': 'qeshm', 'Lat': 26.96, 'Lng': 56.27, 'Max Temp': 71.6, 'Humidity': 56, 'Cloudiness': 38, 'Wind Speed': 6.93, 'Country': 'IR', 'Date': 1583003191}, {'City': 'tivaouane', 'Lat': 14.95, 'Lng': -16.81, 'Max Temp': 87.8, 'Humidity': 22, 'Cloudiness': 11, 'Wind Speed': 19.46, 'Country': 'SN', 'Date': 1583003191}, {'City': 'comodoro rivadavia', 'Lat': -45.87, 'Lng': -67.5, 'Max Temp': 84.2, 'Humidity': 39, 'Cloudiness': 0, 'Wind Speed': 11.41, 'Country': 'AR', 'Date': 1583003153}, {'City': 'krasnyy yar', 'Lat': 46.53, 'Lng': 48.35, 'Max Temp': 39.2, 'Humidity': 51, 'Cloudiness': 97, 'Wind Speed': 6.71, 'Country': 'RU', 'Date': 1583003191}, {'City': 'charters towers', 'Lat': -20.1, 'Lng': 146.27, 'Max Temp': 72.05, 'Humidity': 90, 'Cloudiness': 0, 'Wind Speed': 5.73, 'Country': 'AU', 'Date': 1583002930}, {'City': 'palana', 'Lat': 59.12, 'Lng': 159.97, 'Max Temp': -1.46, 'Humidity': 75, 'Cloudiness': 0, 'Wind Speed': 4.16, 'Country': 'RU', 'Date': 1583003191}, {'City': 'eyl', 'Lat': 7.98, 'Lng': 49.82, 'Max Temp': 77.97, 'Humidity': 75, 'Cloudiness': 19, 'Wind Speed': 19.24, 'Country': 'SO', 'Date': 1583002926}, {'City': 'manvi', 'Lat': 15.98, 'Lng': 77.05, 'Max Temp': 83.44, 'Humidity': 33, 'Cloudiness': 100, 'Wind Speed': 10.16, 'Country': 'IN', 'Date': 1583003191}, {'City': 'tecoanapa', 'Lat': 16.52, 'Lng': -98.75, 'Max Temp': 94.26, 'Humidity': 38, 'Cloudiness': 0, 'Wind Speed': 7.58, 'Country': 'MX', 'Date': 1583003192}, {'City': 'pochutla', 'Lat': 15.74, 'Lng': -96.47, 'Max Temp': 89.6, 'Humidity': 52, 'Cloudiness': 5, 'Wind Speed': 11.41, 'Country': 'MX', 'Date': 1583003192}, {'City': 'khasan', 'Lat': 42.43, 'Lng': 130.64, 'Max Temp': 24.91, 'Humidity': 73, 'Cloudiness': 3, 'Wind Speed': 4.03, 'Country': 'RU', 'Date': 1583003192}, {'City': 'adet', 'Lat': 11.26, 'Lng': 37.49, 'Max Temp': 75.25, 'Humidity': 24, 'Cloudiness': 11, 'Wind Speed': 9.19, 'Country': 'ET', 'Date': 1583003192}, {'City': 'cairns', 'Lat': -16.92, 'Lng': 145.77, 'Max Temp': 78.8, 'Humidity': 88, 'Cloudiness': 90, 'Wind Speed': 4.7, 'Country': 'AU', 'Date': 1583003173}, {'City': 'corn island', 'Lat': 12.17, 'Lng': -83.04, 'Max Temp': 80.53, 'Humidity': 79, 'Cloudiness': 1, 'Wind Speed': 19.15, 'Country': 'NI', 'Date': 1583003192}, {'City': 'novyy buh', 'Lat': 47.69, 'Lng': 32.52, 'Max Temp': 35.6, 'Humidity': 74, 'Cloudiness': 51, 'Wind Speed': 3.89, 'Country': 'UA', 'Date': 1583003192}, {'City': 'rodbyhavn', 'Lat': 54.65, 'Lng': 11.35, 'Max Temp': 48, 'Humidity': 84, 'Cloudiness': 100, 'Wind Speed': 5.99, 'Country': 'DK', 'Date': 1583003192}, {'City': 'andenes', 'Lat': 69.31, 'Lng': 16.12, 'Max Temp': 26.6, 'Humidity': 79, 'Cloudiness': 100, 'Wind Speed': 19.46, 'Country': 'NO', 'Date': 1583003192}, {'City': 'kutum', 'Lat': 14.2, 'Lng': 24.67, 'Max Temp': 71.1, 'Humidity': 13, 'Cloudiness': 19, 'Wind Speed': 8.95, 'Country': 'SD', 'Date': 1583002990}, {'City': 'mount gambier', 'Lat': -37.83, 'Lng': 140.77, 'Max Temp': 55.4, 'Humidity': 100, 'Cloudiness': 92, 'Wind Speed': 9.17, 'Country': 'AU', 'Date': 1583003192}, {'City': 'anchorage', 'Lat': 61.22, 'Lng': -149.9, 'Max Temp': 15.01, 'Humidity': 71, 'Cloudiness': 1, 'Wind Speed': 5.28, 'Country': 'US', 'Date': 1583002944}, {'City': 'namtsy', 'Lat': 62.72, 'Lng': 129.67, 'Max Temp': -20.2, 'Humidity': 75, 'Cloudiness': 0, 'Wind Speed': 4.47, 'Country': 'RU', 'Date': 1583003193}]\n",
    "city_data = pd.DataFrame(city_data)\n",
    "city_data.head()"
   ]
  },
  {
   "cell_type": "code",
   "execution_count": null,
   "metadata": {},
   "outputs": [],
   "source": []
  },
  {
   "cell_type": "markdown",
   "metadata": {},
   "source": [
    "### Plotting the Data\n",
    "* Use proper labeling of the plots using plot titles (including date of analysis) and axes labels.\n",
    "* Save the plotted figures as .pngs."
   ]
  },
  {
   "cell_type": "markdown",
   "metadata": {},
   "source": [
    "#### Latitude vs. Temperature Plot"
   ]
  },
  {
   "cell_type": "code",
   "execution_count": null,
   "metadata": {},
   "outputs": [],
   "source": []
  },
  {
   "cell_type": "markdown",
   "metadata": {},
   "source": [
    "#### Latitude vs. Humidity Plot"
   ]
  },
  {
   "cell_type": "code",
   "execution_count": null,
   "metadata": {},
   "outputs": [],
   "source": []
  },
  {
   "cell_type": "markdown",
   "metadata": {},
   "source": [
    "#### Latitude vs. Cloudiness Plot"
   ]
  },
  {
   "cell_type": "code",
   "execution_count": null,
   "metadata": {},
   "outputs": [],
   "source": []
  },
  {
   "cell_type": "markdown",
   "metadata": {},
   "source": [
    "#### Latitude vs. Wind Speed Plot"
   ]
  },
  {
   "cell_type": "code",
   "execution_count": null,
   "metadata": {},
   "outputs": [],
   "source": []
  },
  {
   "cell_type": "code",
   "execution_count": null,
   "metadata": {},
   "outputs": [],
   "source": []
  }
 ],
 "metadata": {
  "anaconda-cloud": {},
  "kernel_info": {
   "name": "python3"
  },
  "kernelspec": {
   "display_name": "Python 3",
   "language": "python",
   "name": "python3"
  },
  "language_info": {
   "codemirror_mode": {
    "name": "ipython",
    "version": 3
   },
   "file_extension": ".py",
   "mimetype": "text/x-python",
   "name": "python",
   "nbconvert_exporter": "python",
   "pygments_lexer": "ipython3",
   "version": "3.6.9"
  },
  "nteract": {
   "version": "0.12.3"
  }
 },
 "nbformat": 4,
 "nbformat_minor": 2
}
